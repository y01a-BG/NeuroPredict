{
 "cells": [
  {
   "cell_type": "code",
   "execution_count": 1,
   "id": "a64da6fb",
   "metadata": {},
   "outputs": [
    {
     "name": "stderr",
     "output_type": "stream",
     "text": [
      "2025-03-25 22:52:13.107901: I tensorflow/core/platform/cpu_feature_guard.cc:193] This TensorFlow binary is optimized with oneAPI Deep Neural Network Library (oneDNN) to use the following CPU instructions in performance-critical operations:  AVX2 AVX_VNNI FMA\n",
      "To enable them in other operations, rebuild TensorFlow with the appropriate compiler flags.\n",
      "2025-03-25 22:52:13.242582: I tensorflow/core/util/util.cc:169] oneDNN custom operations are on. You may see slightly different numerical results due to floating-point round-off errors from different computation orders. To turn them off, set the environment variable `TF_ENABLE_ONEDNN_OPTS=0`.\n",
      "2025-03-25 22:52:13.253863: W tensorflow/stream_executor/platform/default/dso_loader.cc:64] Could not load dynamic library 'libcudart.so.11.0'; dlerror: libcudart.so.11.0: cannot open shared object file: No such file or directory\n",
      "2025-03-25 22:52:13.253880: I tensorflow/stream_executor/cuda/cudart_stub.cc:29] Ignore above cudart dlerror if you do not have a GPU set up on your machine.\n",
      "2025-03-25 22:52:13.285161: E tensorflow/stream_executor/cuda/cuda_blas.cc:2981] Unable to register cuBLAS factory: Attempting to register factory for plugin cuBLAS when one has already been registered\n",
      "2025-03-25 22:52:14.282777: W tensorflow/stream_executor/platform/default/dso_loader.cc:64] Could not load dynamic library 'libnvinfer.so.7'; dlerror: libnvinfer.so.7: cannot open shared object file: No such file or directory\n",
      "2025-03-25 22:52:14.282852: W tensorflow/stream_executor/platform/default/dso_loader.cc:64] Could not load dynamic library 'libnvinfer_plugin.so.7'; dlerror: libnvinfer_plugin.so.7: cannot open shared object file: No such file or directory\n",
      "2025-03-25 22:52:14.282857: W tensorflow/compiler/tf2tensorrt/utils/py_utils.cc:38] TF-TRT Warning: Cannot dlopen some TensorRT libraries. If you would like to use Nvidia GPU with TensorRT, please make sure the missing libraries mentioned above are installed properly.\n"
     ]
    }
   ],
   "source": [
    "import os\n",
    "import pandas as pd\n",
    "import numpy as np\n",
    "import joblib\n",
    "\n",
    "import tensorflow as tf\n",
    "from keras.utils import to_categorical\n",
    "from keras.models import load_model\n",
    "\n",
    "from sklearn.metrics import accuracy_score, precision_score, recall_score, f1_score, confusion_matrix\n",
    "from sklearn.metrics import classification_report"
   ]
  },
  {
   "cell_type": "code",
   "execution_count": 128,
   "id": "d733943c",
   "metadata": {},
   "outputs": [
    {
     "name": "stdout",
     "output_type": "stream",
     "text": [
      "/home/jovana/code/y01a-BG/NeuroPredict/notebooks\r\n"
     ]
    }
   ],
   "source": [
    "!pwd"
   ]
  },
  {
   "cell_type": "code",
   "execution_count": 5,
   "id": "35d80efe",
   "metadata": {},
   "outputs": [],
   "source": [
    "data = pd.read_csv('/home/jovana/code/y01a-BG/NeuroPredict/processed_data/data.csv')"
   ]
  },
  {
   "cell_type": "code",
   "execution_count": 6,
   "id": "b948d85e",
   "metadata": {},
   "outputs": [
    {
     "data": {
      "text/plain": [
       "(6894, 179)"
      ]
     },
     "execution_count": 6,
     "metadata": {},
     "output_type": "execute_result"
    }
   ],
   "source": [
    "data.shape"
   ]
  },
  {
   "cell_type": "code",
   "execution_count": 7,
   "id": "dd09cab7",
   "metadata": {},
   "outputs": [
    {
     "name": "stdout",
     "output_type": "stream",
     "text": [
      "✅ Data separated (X,y- 2 Classes)\n"
     ]
    }
   ],
   "source": [
    "X = data.drop(columns = 'y')\n",
    "y = data.y -1\n",
    "#Merginf Class 1 and 2 together\n",
    "y = y.replace({2: 1})\n",
    "print(f\"✅ Data separated (X,y- 2 Classes)\")"
   ]
  },
  {
   "cell_type": "code",
   "execution_count": 10,
   "id": "ad9eda92",
   "metadata": {},
   "outputs": [
    {
     "data": {
      "text/plain": [
       "(6894,)"
      ]
     },
     "execution_count": 10,
     "metadata": {},
     "output_type": "execute_result"
    }
   ],
   "source": [
    "y.shape"
   ]
  },
  {
   "cell_type": "code",
   "execution_count": 11,
   "id": "ee17cc86",
   "metadata": {},
   "outputs": [
    {
     "data": {
      "text/plain": [
       "array([0, 1])"
      ]
     },
     "execution_count": 11,
     "metadata": {},
     "output_type": "execute_result"
    }
   ],
   "source": [
    "np.unique(y)"
   ]
  },
  {
   "cell_type": "code",
   "execution_count": 9,
   "id": "1f0677cc",
   "metadata": {},
   "outputs": [
    {
     "data": {
      "text/plain": [
       "(6894, 178)"
      ]
     },
     "execution_count": 9,
     "metadata": {},
     "output_type": "execute_result"
    }
   ],
   "source": [
    "X.shape"
   ]
  },
  {
   "cell_type": "code",
   "execution_count": 2,
   "id": "1d11cd16",
   "metadata": {
    "scrolled": true
   },
   "outputs": [
    {
     "name": "stderr",
     "output_type": "stream",
     "text": [
      "2025-03-25 11:43:07.367477: I tensorflow/stream_executor/cuda/cuda_gpu_executor.cc:966] could not open file to read NUMA node: /sys/bus/pci/devices/0000:01:00.0/numa_node\n",
      "Your kernel may have been built without NUMA support.\n",
      "2025-03-25 11:43:07.367702: W tensorflow/stream_executor/platform/default/dso_loader.cc:64] Could not load dynamic library 'libcudart.so.11.0'; dlerror: libcudart.so.11.0: cannot open shared object file: No such file or directory\n",
      "2025-03-25 11:43:07.367742: W tensorflow/stream_executor/platform/default/dso_loader.cc:64] Could not load dynamic library 'libcublas.so.11'; dlerror: libcublas.so.11: cannot open shared object file: No such file or directory\n",
      "2025-03-25 11:43:07.367776: W tensorflow/stream_executor/platform/default/dso_loader.cc:64] Could not load dynamic library 'libcublasLt.so.11'; dlerror: libcublasLt.so.11: cannot open shared object file: No such file or directory\n",
      "2025-03-25 11:43:07.367808: W tensorflow/stream_executor/platform/default/dso_loader.cc:64] Could not load dynamic library 'libcufft.so.10'; dlerror: libcufft.so.10: cannot open shared object file: No such file or directory\n",
      "2025-03-25 11:43:07.367843: W tensorflow/stream_executor/platform/default/dso_loader.cc:64] Could not load dynamic library 'libcurand.so.10'; dlerror: libcurand.so.10: cannot open shared object file: No such file or directory\n",
      "2025-03-25 11:43:07.367875: W tensorflow/stream_executor/platform/default/dso_loader.cc:64] Could not load dynamic library 'libcusolver.so.11'; dlerror: libcusolver.so.11: cannot open shared object file: No such file or directory\n",
      "2025-03-25 11:43:07.367906: W tensorflow/stream_executor/platform/default/dso_loader.cc:64] Could not load dynamic library 'libcusparse.so.11'; dlerror: libcusparse.so.11: cannot open shared object file: No such file or directory\n",
      "2025-03-25 11:43:07.367939: W tensorflow/stream_executor/platform/default/dso_loader.cc:64] Could not load dynamic library 'libcudnn.so.8'; dlerror: libcudnn.so.8: cannot open shared object file: No such file or directory\n",
      "2025-03-25 11:43:07.367950: W tensorflow/core/common_runtime/gpu/gpu_device.cc:1934] Cannot dlopen some GPU libraries. Please make sure the missing libraries mentioned above are installed properly if you would like to use GPU. Follow the guide at https://www.tensorflow.org/install/gpu for how to download and setup the required libraries for your platform.\n",
      "Skipping registering GPU devices...\n",
      "2025-03-25 11:43:07.369087: I tensorflow/core/platform/cpu_feature_guard.cc:193] This TensorFlow binary is optimized with oneAPI Deep Neural Network Library (oneDNN) to use the following CPU instructions in performance-critical operations:  AVX2 AVX_VNNI FMA\n",
      "To enable them in other operations, rebuild TensorFlow with the appropriate compiler flags.\n"
     ]
    }
   ],
   "source": [
    "############################################\n",
    "####### Loading models of interest ########\n",
    "###########################################\n",
    "\n",
    "# Load trianed model from model/ .h5 file\n",
    "lstm = load_model(\"/home/jovana/code/y01a-BG/NeuroPredict/models/model_lstm.h5\")\n",
    "binary_rocket = joblib.load(\"/home/jovana/code/y01a-BG/NeuroPredict/models/binary_rocket.pkl\")"
   ]
  },
  {
   "cell_type": "code",
   "execution_count": 36,
   "id": "d1dc767e",
   "metadata": {},
   "outputs": [
    {
     "name": "stdout",
     "output_type": "stream",
     "text": [
      "✅ X_test, y_test loaded\n",
      "✅ X_test_lstm, y_test_lstm  are ready.\n"
     ]
    }
   ],
   "source": [
    "####################################################\n",
    "####### Loading/ LSTM - encoding test data   ########\n",
    "####################################################\n",
    "\n",
    "X_test = pd.read_csv(\"/home/jovana/code/y01a-BG/NeuroPredict/processed_data/X_test.csv\")\n",
    "y_test = pd.read_csv(\"/home/jovana/code/y01a-BG/NeuroPredict/processed_data/y_test.csv\")\n",
    "y_test = y_test -1 # Shift labels to start from 0\n",
    "print(f\"✅ X_test, y_test loaded\")\n",
    "\n",
    "X_test_lstm = np.expand_dims(X_test, axis=2)  # to be able to enter the LSTM model\n",
    "y_test_lstm = y_test-1\n",
    "y_test_lstm = to_categorical(y_test, num_classes=3)\n",
    "\n",
    "#print(y_test)\n",
    "print(f\"✅ X_test_lstm, y_test_lstm  are ready.\")"
   ]
  },
  {
   "cell_type": "code",
   "execution_count": 37,
   "id": "3d31bb2e",
   "metadata": {},
   "outputs": [
    {
     "data": {
      "text/plain": [
       "(1380, 178, 1)"
      ]
     },
     "execution_count": 37,
     "metadata": {},
     "output_type": "execute_result"
    }
   ],
   "source": [
    " X_test_lstm.shape"
   ]
  },
  {
   "cell_type": "code",
   "execution_count": 54,
   "id": "731fa0d5",
   "metadata": {},
   "outputs": [
    {
     "name": "stdout",
     "output_type": "stream",
     "text": [
      "44/44 [==============================] - 3s 74ms/step\n",
      "Unique values in y_lstm_preds before conversion: [0 1 2]\n",
      "Classes population after lstm : 0\n",
      "1    544\n",
      "0    463\n",
      "2    373\n",
      "Name: count, dtype: int64\n"
     ]
    }
   ],
   "source": [
    "# 1st poredictions for LSTM\n",
    "y_lstm_probs = lstm.predict(X_test_lstm)\n",
    "y_lstm_preds = np.argmax(y_lstm_probs, axis=1)\n",
    "print(f\"Unique values in y_lstm_preds before conversion: {np.unique(y_lstm_preds)}\")\n",
    "print(f'Classes population after lstm : {pd.DataFrame(y_lstm_preds).value_counts()}')"
   ]
  },
  {
   "cell_type": "code",
   "execution_count": 55,
   "id": "c297e7bf",
   "metadata": {},
   "outputs": [
    {
     "data": {
      "text/plain": [
       "array([False,  True, False, ..., False,  True, False])"
      ]
     },
     "execution_count": 55,
     "metadata": {},
     "output_type": "execute_result"
    }
   ],
   "source": [
    "# Define the category to exclude\n",
    "category_to_exclude = 0  # Replace with actual category\n",
    "\n",
    "# Create a mask for the rows to keep\n",
    "mask = y_lstm_preds != category_to_exclude \n",
    "mask"
   ]
  },
  {
   "cell_type": "code",
   "execution_count": 43,
   "id": "08eed9b5",
   "metadata": {},
   "outputs": [],
   "source": [
    "# getting the data for Rocket\n",
    "X_test_rocket = X_test[mask]\n",
    "y_test_rocket = y_test[mask]"
   ]
  },
  {
   "cell_type": "code",
   "execution_count": 42,
   "id": "9a9a7092",
   "metadata": {},
   "outputs": [
    {
     "data": {
      "text/plain": [
       "(917, 178)"
      ]
     },
     "execution_count": 42,
     "metadata": {},
     "output_type": "execute_result"
    }
   ],
   "source": [
    "X_test_rocket.shape"
   ]
  },
  {
   "cell_type": "code",
   "execution_count": 46,
   "id": "a60e822b",
   "metadata": {},
   "outputs": [
    {
     "data": {
      "text/plain": [
       "y\n",
       "2    469\n",
       "1    437\n",
       "0     11\n",
       "Name: count, dtype: int64"
      ]
     },
     "execution_count": 46,
     "metadata": {},
     "output_type": "execute_result"
    }
   ],
   "source": [
    "y_test_rocket.value_counts()"
   ]
  },
  {
   "cell_type": "code",
   "execution_count": 47,
   "id": "9f83a629",
   "metadata": {},
   "outputs": [
    {
     "data": {
      "text/plain": [
       "(917, 1)"
      ]
     },
     "execution_count": 47,
     "metadata": {},
     "output_type": "execute_result"
    }
   ],
   "source": [
    "y_test_rocket.shape"
   ]
  },
  {
   "cell_type": "code",
   "execution_count": 48,
   "id": "144d70a6",
   "metadata": {},
   "outputs": [],
   "source": [
    "# Rocket encoding for X\n",
    "def from_2d_array_to_nested(X_train: pd.DataFrame, y_train: pd.DataFrame = None, index=None, columns=None, time_index=None, cells_as_numpy=False):\n",
    "    \"\"\"Convert 2D dataframe to nested dataframe.\"\"\"\n",
    "    if (time_index is not None) and cells_as_numpy:\n",
    "        raise ValueError(\n",
    "            \"`Time_index` cannot be specified when `return_arrays` is True, \"\n",
    "            \"time index can only be set to pandas Series\"\n",
    "        )\n",
    "    if isinstance(X_train, pd.DataFrame):\n",
    "        X_train = X_train.to_numpy()\n",
    "\n",
    "    container = np.array if cells_as_numpy else pd.Series\n",
    "    n_instances, n_timepoints = X_train.shape\n",
    "\n",
    "    if time_index is None:\n",
    "        time_index = np.arange(n_timepoints)\n",
    "    kwargs = {\"index\": time_index}\n",
    "\n",
    "    Xt = pd.DataFrame(\n",
    "        pd.Series([container(X_train[i, :], **kwargs) for i in range(n_instances)])\n",
    "    )\n",
    "    if index is not None:\n",
    "        Xt.index = index\n",
    "    if columns is not None:\n",
    "        Xt.columns = columns\n",
    "    return Xt"
   ]
  },
  {
   "cell_type": "code",
   "execution_count": 50,
   "id": "f42bbea7",
   "metadata": {},
   "outputs": [],
   "source": [
    "# encoding data for Rocket\n",
    "X_test_rocket =from_2d_array_to_nested(X_test_rocket, index=None, columns=None, time_index=None, cells_as_numpy=False)"
   ]
  },
  {
   "cell_type": "code",
   "execution_count": 127,
   "id": "53a701ff",
   "metadata": {},
   "outputs": [
    {
     "data": {
      "text/plain": [
       "(4, 178, 1)"
      ]
     },
     "execution_count": 127,
     "metadata": {},
     "output_type": "execute_result"
    }
   ],
   "source": [
    "X_test_rocket.shape"
   ]
  },
  {
   "cell_type": "code",
   "execution_count": 51,
   "id": "18d28b92",
   "metadata": {},
   "outputs": [
    {
     "data": {
      "text/plain": [
       "array([2, 2, 2, 3, 2, 2, 2, 3, 2, 2, 3, 2, 3, 3, 2, 3, 3, 2, 2, 3, 2, 2,\n",
       "       2, 2, 3, 2, 2, 3, 2, 2, 2, 2, 2, 3, 3, 2, 3, 3, 2, 2, 2, 3, 3, 2,\n",
       "       2, 2, 3, 3, 2, 3, 3, 2, 3, 2, 2, 2, 2, 2, 3, 2, 3, 3, 3, 3, 3, 2,\n",
       "       2, 3, 3, 3, 3, 2, 3, 2, 3, 2, 3, 2, 2, 3, 2, 2, 2, 2, 2, 2, 3, 2,\n",
       "       2, 2, 2, 2, 2, 3, 3, 3, 3, 2, 2, 2, 2, 2, 2, 2, 2, 2, 3, 3, 2, 2,\n",
       "       2, 3, 2, 2, 2, 3, 2, 3, 3, 2, 2, 3, 2, 3, 2, 2, 2, 3, 2, 3, 3, 2,\n",
       "       3, 2, 3, 2, 3, 3, 2, 2, 2, 3, 2, 2, 3, 2, 2, 3, 2, 3, 3, 3, 2, 2,\n",
       "       2, 3, 3, 2, 2, 3, 2, 2, 3, 2, 2, 3, 3, 3, 3, 2, 3, 2, 2, 2, 2, 3,\n",
       "       3, 2, 3, 2, 2, 3, 2, 3, 3, 3, 2, 2, 2, 2, 3, 3, 2, 2, 2, 3, 2, 2,\n",
       "       2, 2, 3, 2, 3, 2, 3, 3, 3, 2, 2, 2, 3, 2, 2, 2, 3, 3, 2, 2, 2, 3,\n",
       "       2, 3, 2, 3, 2, 3, 3, 2, 2, 3, 2, 2, 3, 3, 2, 3, 2, 2, 2, 2, 3, 2,\n",
       "       2, 2, 3, 3, 2, 3, 2, 3, 2, 3, 2, 2, 3, 3, 3, 2, 3, 2, 2, 3, 2, 3,\n",
       "       3, 2, 2, 2, 3, 2, 3, 2, 3, 3, 3, 3, 3, 2, 2, 3, 2, 3, 2, 3, 2, 3,\n",
       "       3, 2, 3, 2, 2, 2, 3, 3, 3, 3, 3, 2, 2, 2, 3, 2, 2, 3, 2, 2, 3, 3,\n",
       "       3, 3, 2, 2, 2, 2, 2, 3, 2, 2, 3, 3, 3, 3, 2, 2, 2, 2, 2, 2, 2, 3,\n",
       "       2, 2, 2, 3, 2, 2, 2, 2, 3, 3, 2, 2, 3, 2, 3, 3, 2, 2, 2, 3, 2, 3,\n",
       "       2, 3, 2, 3, 2, 2, 2, 2, 2, 3, 3, 2, 2, 3, 2, 2, 3, 2, 2, 2, 2, 3,\n",
       "       2, 3, 2, 2, 2, 2, 3, 2, 2, 3, 3, 2, 2, 3, 3, 2, 2, 3, 2, 2, 2, 2,\n",
       "       2, 2, 3, 3, 2, 2, 3, 2, 2, 3, 2, 3, 3, 3, 2, 3, 2, 2, 3, 2, 2, 3,\n",
       "       2, 2, 3, 2, 3, 2, 3, 2, 2, 3, 3, 3, 2, 2, 3, 2, 2, 2, 3, 2, 2, 3,\n",
       "       2, 3, 3, 3, 3, 2, 2, 3, 3, 3, 3, 2, 2, 2, 3, 3, 2, 2, 3, 3, 2, 3,\n",
       "       2, 2, 3, 2, 3, 3, 3, 3, 2, 3, 3, 3, 3, 3, 3, 2, 3, 2, 2, 3, 3, 3,\n",
       "       3, 3, 2, 2, 2, 2, 2, 3, 2, 3, 2, 2, 3, 3, 2, 2, 2, 3, 2, 2, 2, 2,\n",
       "       2, 2, 3, 3, 2, 3, 2, 2, 3, 2, 2, 2, 2, 2, 3, 3, 3, 2, 3, 2, 3, 2,\n",
       "       3, 3, 2, 2, 3, 2, 2, 2, 3, 3, 3, 3, 3, 2, 3, 2, 3, 3, 3, 3, 2, 2,\n",
       "       3, 3, 3, 3, 2, 2, 3, 2, 2, 2, 2, 2, 2, 2, 2, 2, 2, 2, 3, 2, 3, 2,\n",
       "       3, 3, 3, 3, 2, 3, 2, 2, 2, 2, 2, 3, 2, 2, 2, 2, 3, 3, 3, 2, 2, 2,\n",
       "       2, 2, 2, 2, 2, 3, 3, 2, 3, 3, 2, 2, 2, 3, 3, 2, 2, 2, 3, 2, 2, 2,\n",
       "       3, 3, 2, 3, 2, 3, 3, 2, 3, 2, 3, 2, 2, 2, 2, 3, 3, 3, 2, 2, 3, 3,\n",
       "       2, 2, 3, 2, 3, 2, 2, 3, 3, 2, 2, 2, 2, 3, 3, 2, 2, 2, 3, 2, 2, 2,\n",
       "       2, 3, 2, 3, 3, 3, 2, 3, 2, 2, 2, 2, 2, 2, 2, 2, 3, 2, 2, 2, 2, 2,\n",
       "       2, 3, 2, 2, 2, 2, 2, 3, 2, 2, 3, 2, 2, 3, 2, 2, 3, 2, 2, 2, 3, 3,\n",
       "       2, 2, 2, 2, 2, 3, 3, 2, 3, 2, 3, 3, 2, 2, 3, 3, 3, 2, 2, 3, 2, 3,\n",
       "       3, 2, 2, 3, 3, 2, 3, 2, 3, 2, 2, 3, 2, 3, 2, 2, 2, 2, 2, 2, 3, 2,\n",
       "       2, 2, 2, 2, 2, 2, 3, 2, 2, 2, 2, 3, 2, 2, 2, 3, 2, 2, 3, 3, 3, 3,\n",
       "       2, 2, 2, 2, 3, 3, 3, 2, 2, 3, 2, 3, 3, 2, 2, 2, 3, 2, 3, 3, 2, 2,\n",
       "       3, 2, 3, 2, 2, 3, 2, 2, 2, 2, 2, 3, 2, 2, 3, 2, 3, 3, 3, 3, 3, 2,\n",
       "       2, 2, 2, 3, 3, 3, 3, 3, 2, 2, 2, 3, 2, 2, 3, 2, 2, 2, 2, 2, 2, 3,\n",
       "       2, 3, 2, 2, 3, 3, 2, 2, 2, 2, 2, 2, 2, 2, 2, 3, 2, 2, 2, 2, 3, 3,\n",
       "       2, 2, 2, 2, 2, 2, 2, 3, 3, 3, 2, 3, 3, 2, 2, 3, 3, 3, 3, 3, 2, 2,\n",
       "       2, 3, 2, 2, 2, 3, 3, 3, 3, 3, 2, 2, 2, 3, 2, 2, 2, 2, 3, 3, 3, 3,\n",
       "       2, 2, 2, 2, 2, 3, 3, 2, 2, 2, 3, 2, 2, 2, 3])"
      ]
     },
     "execution_count": 51,
     "metadata": {},
     "output_type": "execute_result"
    }
   ],
   "source": [
    "# Step 3: Use ROCKET for the cases where LSTM predicted Class 1 or 2\n",
    "rocket_preds = binary_rocket.predict(X_test_rocket)  # Predict with ROCKET for Class 1 and 2\n",
    "rocket_preds"
   ]
  },
  {
   "cell_type": "code",
   "execution_count": 52,
   "id": "095a3439",
   "metadata": {},
   "outputs": [
    {
     "data": {
      "text/plain": [
       "0\n",
       "2    541\n",
       "3    376\n",
       "Name: count, dtype: int64"
      ]
     },
     "execution_count": 52,
     "metadata": {},
     "output_type": "execute_result"
    }
   ],
   "source": [
    "pd.DataFrame(rocket_preds).value_counts()"
   ]
  },
  {
   "cell_type": "code",
   "execution_count": 61,
   "id": "29c5c654",
   "metadata": {},
   "outputs": [
    {
     "data": {
      "text/plain": [
       "(917,)"
      ]
     },
     "execution_count": 61,
     "metadata": {},
     "output_type": "execute_result"
    }
   ],
   "source": [
    "# Step 4: Replace LSTM predictions with ROCKET predictions for Class 1 & 2 cases\n",
    "y_lstm_preds_mask = y_lstm_preds[mask] \n",
    "y_lstm_preds_mask.shape"
   ]
  },
  {
   "cell_type": "code",
   "execution_count": null,
   "id": "95221802",
   "metadata": {},
   "outputs": [],
   "source": [
    "y_lstm_preds[mask] = rocket_preds"
   ]
  },
  {
   "cell_type": "code",
   "execution_count": 62,
   "id": "03e6911d",
   "metadata": {},
   "outputs": [
    {
     "data": {
      "text/plain": [
       "(917,)"
      ]
     },
     "execution_count": 62,
     "metadata": {},
     "output_type": "execute_result"
    }
   ],
   "source": [
    "rocket_preds.shape"
   ]
  },
  {
   "cell_type": "code",
   "execution_count": 63,
   "id": "b2c5f14a",
   "metadata": {},
   "outputs": [
    {
     "data": {
      "text/plain": [
       "array([0, 1, 0, ..., 0, 2, 0])"
      ]
     },
     "execution_count": 63,
     "metadata": {},
     "output_type": "execute_result"
    }
   ],
   "source": [
    "y_lstm_preds"
   ]
  },
  {
   "cell_type": "code",
   "execution_count": 73,
   "id": "3f72f9f4",
   "metadata": {},
   "outputs": [],
   "source": [
    "####################################################\n",
    "####### Evaluating the hybrid model  ########\n",
    "####################################################\n",
    "\n",
    "def hybrid_prediction(X_test_lstm, lstm, binary_rocket):\n",
    "    \"\"\"\n",
    "    X_test_lstm -> input data for LSTM\n",
    "    X_test_rocket -> input data for ROCKET (only Class 1 & 2)\n",
    "    lstm -> Trained LSTM model\n",
    "    binary_rocket -> Trained ROCKET model\n",
    "    \"\"\"\n",
    "    # Step 1: Get LSTM predictions\n",
    "    y_lstm_probs = lstm.predict(X_test_lstm)  # Assume this gives probabilities\n",
    "    y_lstm_preds = np.argmax(y_lstm_probs, axis=1)  # Predicted classes from LSTM\n",
    "\n",
    "    # Debug\n",
    "    print(f\"Unique values in y_lstm_preds before conversion: {np.unique(y_lstm_preds)}\")\n",
    "    print(f'Classes population after lstm : {pd.DataFrame(y_lstm_preds).value_counts()}')\n",
    "\n",
    "    # Define the category to exclude\n",
    "    category_to_exclude = 0  # Replace with actual category\n",
    "    # Create a mask for the rows to keep \n",
    "    mask = y_lstm_preds != category_to_exclude \n",
    "    # With maskcreate X_test_rocket, y_test_rocket\n",
    "    X_test_rocket = X_test[mask]\n",
    "    y_test_rocket = y_test[mask]\n",
    "    # encoding data for Rocket\n",
    "    X_test_rocket =from_2d_array_to_nested(X_test_rocket, index=None, columns=None, time_index=None, cells_as_numpy=False)\n",
    "\n",
    "    rocket_preds = binary_rocket.predict(X_test_rocket)  # Predict with ROCKET for Class 1 and 2\n",
    "\n",
    "    # Step 4: Replace LSTM predictions with ROCKET predictions for Class 1 & 2 cases\n",
    "    y_lstm_preds[mask] = rocket_preds\n",
    "\n",
    "    # Step 5: Ensure all predictions are within the valid range of classes [0, 1, 2]\n",
    "    y_lstm_preds = np.clip(y_lstm_preds, 0, 2)  # Ensure the class predictions are within [0, 2]\n",
    "\n",
    "    return y_lstm_preds\n",
    "\n"
   ]
  },
  {
   "cell_type": "code",
   "execution_count": null,
   "id": "dce2e5b2",
   "metadata": {},
   "outputs": [],
   "source": []
  },
  {
   "cell_type": "code",
   "execution_count": 74,
   "id": "c9cdb1fc",
   "metadata": {},
   "outputs": [
    {
     "name": "stdout",
     "output_type": "stream",
     "text": [
      "44/44 [==============================] - 3s 75ms/step\n",
      "Unique values in y_lstm_preds before conversion: [0 1 2]\n",
      "Classes population after lstm : 0\n",
      "1    544\n",
      "0    463\n",
      "2    373\n",
      "Name: count, dtype: int64\n"
     ]
    }
   ],
   "source": [
    "# Example usage:\n",
    "# Assuming `lstm` and `binary_rocket` are already trained models\n",
    "y_lstm_preds = hybrid_prediction(X_test_lstm,lstm, binary_rocket)"
   ]
  },
  {
   "cell_type": "code",
   "execution_count": 85,
   "id": "ae9e29b0",
   "metadata": {},
   "outputs": [
    {
     "data": {
      "text/plain": [
       "array([0, 2, 0, ..., 0, 2, 0])"
      ]
     },
     "execution_count": 85,
     "metadata": {},
     "output_type": "execute_result"
    }
   ],
   "source": [
    "y_lstm_preds"
   ]
  },
  {
   "cell_type": "code",
   "execution_count": 83,
   "id": "e738aaa8",
   "metadata": {},
   "outputs": [
    {
     "data": {
      "text/plain": [
       "y\n",
       "2    474\n",
       "1    457\n",
       "0    449\n",
       "Name: count, dtype: int64"
      ]
     },
     "execution_count": 83,
     "metadata": {},
     "output_type": "execute_result"
    }
   ],
   "source": [
    "y_test.value_counts()"
   ]
  },
  {
   "cell_type": "code",
   "execution_count": 86,
   "id": "845bbd8b",
   "metadata": {},
   "outputs": [
    {
     "data": {
      "text/html": [
       "<div>\n",
       "<style scoped>\n",
       "    .dataframe tbody tr th:only-of-type {\n",
       "        vertical-align: middle;\n",
       "    }\n",
       "\n",
       "    .dataframe tbody tr th {\n",
       "        vertical-align: top;\n",
       "    }\n",
       "\n",
       "    .dataframe thead th {\n",
       "        text-align: right;\n",
       "    }\n",
       "</style>\n",
       "<table border=\"1\" class=\"dataframe\">\n",
       "  <thead>\n",
       "    <tr style=\"text-align: right;\">\n",
       "      <th></th>\n",
       "      <th>y</th>\n",
       "    </tr>\n",
       "  </thead>\n",
       "  <tbody>\n",
       "    <tr>\n",
       "      <th>0</th>\n",
       "      <td>0</td>\n",
       "    </tr>\n",
       "    <tr>\n",
       "      <th>1</th>\n",
       "      <td>1</td>\n",
       "    </tr>\n",
       "    <tr>\n",
       "      <th>2</th>\n",
       "      <td>0</td>\n",
       "    </tr>\n",
       "    <tr>\n",
       "      <th>3</th>\n",
       "      <td>1</td>\n",
       "    </tr>\n",
       "    <tr>\n",
       "      <th>4</th>\n",
       "      <td>2</td>\n",
       "    </tr>\n",
       "    <tr>\n",
       "      <th>...</th>\n",
       "      <td>...</td>\n",
       "    </tr>\n",
       "    <tr>\n",
       "      <th>1375</th>\n",
       "      <td>1</td>\n",
       "    </tr>\n",
       "    <tr>\n",
       "      <th>1376</th>\n",
       "      <td>0</td>\n",
       "    </tr>\n",
       "    <tr>\n",
       "      <th>1377</th>\n",
       "      <td>0</td>\n",
       "    </tr>\n",
       "    <tr>\n",
       "      <th>1378</th>\n",
       "      <td>2</td>\n",
       "    </tr>\n",
       "    <tr>\n",
       "      <th>1379</th>\n",
       "      <td>0</td>\n",
       "    </tr>\n",
       "  </tbody>\n",
       "</table>\n",
       "<p>1380 rows × 1 columns</p>\n",
       "</div>"
      ],
      "text/plain": [
       "      y\n",
       "0     0\n",
       "1     1\n",
       "2     0\n",
       "3     1\n",
       "4     2\n",
       "...  ..\n",
       "1375  1\n",
       "1376  0\n",
       "1377  0\n",
       "1378  2\n",
       "1379  0\n",
       "\n",
       "[1380 rows x 1 columns]"
      ]
     },
     "execution_count": 86,
     "metadata": {},
     "output_type": "execute_result"
    }
   ],
   "source": [
    "y_test"
   ]
  },
  {
   "cell_type": "code",
   "execution_count": 87,
   "id": "54aa5901",
   "metadata": {},
   "outputs": [
    {
     "name": "stdout",
     "output_type": "stream",
     "text": [
      "✅ \n",
      "Confusion Matrix:\n",
      "[[438   0  11]\n",
      " [ 20   0 437]\n",
      " [  5   0 469]]\n",
      "✅ \n",
      "Classification Report:\n",
      "              precision    recall  f1-score   support\n",
      "\n",
      "     Class 0       0.95      0.98      0.96       449\n",
      "     Class 1       0.00      0.00      0.00       457\n",
      "     Class 2       0.51      0.99      0.67       474\n",
      "\n",
      "    accuracy                           0.66      1380\n",
      "   macro avg       0.49      0.65      0.54      1380\n",
      "weighted avg       0.48      0.66      0.54      1380\n",
      "\n",
      "✅ Metrics Table:\n",
      "              Metric     Score\n",
      "0           Accuracy  0.657246\n",
      "1  Precision (Macro)  0.485818\n",
      "2     Recall (Macro)  0.654984\n",
      "3   F1-Score (Macro)  0.544954\n"
     ]
    },
    {
     "name": "stderr",
     "output_type": "stream",
     "text": [
      "/home/jovana/.pyenv/versions/3.10.6/envs/NeuroPredict/lib/python3.10/site-packages/sklearn/metrics/_classification.py:1565: UndefinedMetricWarning: Precision is ill-defined and being set to 0.0 in labels with no predicted samples. Use `zero_division` parameter to control this behavior.\n",
      "  _warn_prf(average, modifier, f\"{metric.capitalize()} is\", len(result))\n",
      "/home/jovana/.pyenv/versions/3.10.6/envs/NeuroPredict/lib/python3.10/site-packages/sklearn/metrics/_classification.py:1565: UndefinedMetricWarning: Precision is ill-defined and being set to 0.0 in labels with no predicted samples. Use `zero_division` parameter to control this behavior.\n",
      "  _warn_prf(average, modifier, f\"{metric.capitalize()} is\", len(result))\n",
      "/home/jovana/.pyenv/versions/3.10.6/envs/NeuroPredict/lib/python3.10/site-packages/sklearn/metrics/_classification.py:1565: UndefinedMetricWarning: Precision is ill-defined and being set to 0.0 in labels with no predicted samples. Use `zero_division` parameter to control this behavior.\n",
      "  _warn_prf(average, modifier, f\"{metric.capitalize()} is\", len(result))\n",
      "/home/jovana/.pyenv/versions/3.10.6/envs/NeuroPredict/lib/python3.10/site-packages/sklearn/metrics/_classification.py:1565: UndefinedMetricWarning: Precision is ill-defined and being set to 0.0 in labels with no predicted samples. Use `zero_division` parameter to control this behavior.\n",
      "  _warn_prf(average, modifier, f\"{metric.capitalize()} is\", len(result))\n"
     ]
    }
   ],
   "source": [
    "\n",
    "# Calculate accuracy score\n",
    "accuracy = accuracy_score(y_test, y_lstm_preds)\n",
    "\n",
    "# Calculate precision, recall, and f1-score (macro average)\n",
    "precision = precision_score(y_test, y_lstm_preds, average='macro')  # 'macro' averages metrics across all classes\n",
    "recall = recall_score(y_test, y_lstm_preds, average='macro')\n",
    "f1 = f1_score(y_test, y_lstm_preds, average='macro')\n",
    "\n",
    "# Display results as a table\n",
    "results = {\n",
    "        'Metric': ['Accuracy', 'Precision (Macro)', 'Recall (Macro)', 'F1-Score (Macro)'],\n",
    "        'Score': [accuracy, precision, recall, f1]\n",
    "}\n",
    "\n",
    "# Create DataFrame for easy display\n",
    "results_df = pd.DataFrame(results)\n",
    "\n",
    "# Confusion matrix\n",
    "conf_matrix = confusion_matrix(y_test, y_lstm_preds)\n",
    "print(\"✅ \\nConfusion Matrix:\")\n",
    "print(conf_matrix)\n",
    "\n",
    "# Create classification report (including precision, recall, f1-score per class)\n",
    "class_report = classification_report(y_test, y_lstm_preds, target_names=['Class 0', 'Class 1', 'Class 2'])\n",
    "print(\"✅ \\nClassification Report:\")\n",
    "print(class_report)\n",
    "\n",
    "print(f\"✅ Metrics Table:\\n{results_df}\")\n",
    "\n",
    "\n",
    "\n"
   ]
  },
  {
   "cell_type": "code",
   "execution_count": 105,
   "id": "a303f468",
   "metadata": {},
   "outputs": [
    {
     "name": "stdout",
     "output_type": "stream",
     "text": [
      "1/1 [==============================] - 0s 89ms/step\n"
     ]
    }
   ],
   "source": [
    "# Step 1: Get LSTM predictions\n",
    "y_lstm_probs = lstm.predict(X_pred)  # Assuming LSTM outputs probability scores\n",
    "y_lstm_preds = np.argmax(y_lstm_probs, axis=1) "
   ]
  },
  {
   "cell_type": "code",
   "execution_count": 106,
   "id": "b21fa1fc",
   "metadata": {},
   "outputs": [
    {
     "data": {
      "text/plain": [
       "array([0, 0, 2, 1, 1, 2])"
      ]
     },
     "execution_count": 106,
     "metadata": {},
     "output_type": "execute_result"
    }
   ],
   "source": [
    "y_lstm_preds"
   ]
  },
  {
   "cell_type": "code",
   "execution_count": 107,
   "id": "eb9045fd",
   "metadata": {},
   "outputs": [],
   "source": [
    "# Define the category to exclude\n",
    "category_to_exclude = 0  # Replace with actual category\n",
    "mask = y_lstm_preds != category_to_exclude \n",
    "    "
   ]
  },
  {
   "cell_type": "code",
   "execution_count": 108,
   "id": "70c8174e",
   "metadata": {},
   "outputs": [
    {
     "data": {
      "text/plain": [
       "array([False, False,  True,  True,  True,  True])"
      ]
     },
     "execution_count": 108,
     "metadata": {},
     "output_type": "execute_result"
    }
   ],
   "source": [
    "mask"
   ]
  },
  {
   "cell_type": "code",
   "execution_count": 122,
   "id": "529d0fdf",
   "metadata": {},
   "outputs": [
    {
     "data": {
      "text/plain": [
       "(4, 178, 1)"
      ]
     },
     "execution_count": 122,
     "metadata": {},
     "output_type": "execute_result"
    }
   ],
   "source": [
    "# With maskcreate X_test_rocket, y_test_rocket\n",
    "X_pred_rocket = X_pred[mask]\n",
    "X_pred_rocket.shape"
   ]
  },
  {
   "cell_type": "code",
   "execution_count": 124,
   "id": "492e906a",
   "metadata": {},
   "outputs": [
    {
     "name": "stdout",
     "output_type": "stream",
     "text": [
      "(4, 178)\n"
     ]
    }
   ],
   "source": [
    "from sktime.datatypes._panel._convert import from_2d_array_to_nested\n",
    "X_pred_rocket = X_pred_rocket.squeeze(-1)  # Removes the last dimension\n",
    "print(X_pred_rocket.shape)  # Should now be (4, 178)\n",
    "\n",
    "# Convert to nested format\n",
    "X_pred_rocket = from_2d_array_to_nested(X_pred_rocket)"
   ]
  },
  {
   "cell_type": "code",
   "execution_count": 125,
   "id": "15ae79ef",
   "metadata": {},
   "outputs": [],
   "source": [
    " rocket_preds = binary_rocket.predict(X_pred_rocket)"
   ]
  },
  {
   "cell_type": "code",
   "execution_count": 126,
   "id": "8ee0b46f",
   "metadata": {},
   "outputs": [
    {
     "data": {
      "text/plain": [
       "array([2, 2, 2, 2])"
      ]
     },
     "execution_count": 126,
     "metadata": {},
     "output_type": "execute_result"
    }
   ],
   "source": [
    " rocket_preds"
   ]
  },
  {
   "cell_type": "code",
   "execution_count": null,
   "id": "cc429382",
   "metadata": {},
   "outputs": [],
   "source": []
  },
  {
   "cell_type": "code",
   "execution_count": null,
   "id": "39cf72d5",
   "metadata": {},
   "outputs": [],
   "source": []
  },
  {
   "cell_type": "code",
   "execution_count": 100,
   "id": "7f2b6e7b",
   "metadata": {},
   "outputs": [],
   "source": [
    "def hybrid_prediction_pred(X_pred, lstm, binary_rocket):\n",
    "    \"\"\"\n",
    "    X_pred -> New input data\n",
    "    lstm -> Trained LSTM model\n",
    "    binary_rocket -> Trained ROCKET model\n",
    "    Returns final hybrid predictions for X_pred\n",
    "    \"\"\"\n",
    "\n",
    "    # Step 1: Get LSTM predictions\n",
    "    y_lstm_probs = lstm.predict(X_pred)  # Assuming LSTM outputs probability scores\n",
    "    y_lstm_preds = np.argmax(y_lstm_probs, axis=1)  # Convert to class labels\n",
    "\n",
    "    # Debugging\n",
    "    print(f\"Unique values in y_lstm_preds before conversion: {np.unique(y_lstm_preds)}\")\n",
    "    print(f'Classes population after lstm : {pd.DataFrame(y_lstm_preds).value_counts()}')\n",
    "\n",
    "    # Define the category to exclude\n",
    "    category_to_exclude = 0  # Replace with actual category\n",
    "    # Create a mask for the rows to keep \n",
    "    mask = y_lstm_preds != category_to_exclude \n",
    "    # With maskcreate X_test_rocket, y_test_rocket\n",
    "    X_test_rocket = X_pred[mask]\n",
    "    # encoding data for Rocket\n",
    "    X_test_rocket =from_2d_array_to_nested(X_test_rocket, index=None, columns=None, time_index=None, cells_as_numpy=False)\n",
    "\n",
    "#     # Step 3: Convert to nested format for ROCKET\n",
    "#     if X_pred_rocket.shape[0] > 0:  # Avoid empty case\n",
    "#         X_pred_rocket = from_2d_array_to_nested(X_pred_rocket)\n",
    "\n",
    "        # Step 4: Predict with ROCKET for Class 1 & 2\n",
    "        rocket_preds = binary_rocket.predict(X_pred_rocket)\n",
    "\n",
    "        # Step 5: Replace LSTM predictions with ROCKET predictions for Class 1 & 2\n",
    "        y_lstm_preds[mask] = rocket_preds\n",
    "\n",
    "    # Step 6: Ensure valid class predictions [0, 1, 2]\n",
    "    y_lstm_preds = np.clip(y_lstm_preds, 0, 2)\n",
    "\n",
    "    return y_lstm_preds"
   ]
  },
  {
   "cell_type": "code",
   "execution_count": 101,
   "id": "2f4fc858",
   "metadata": {},
   "outputs": [
    {
     "name": "stdout",
     "output_type": "stream",
     "text": [
      "1/1 [==============================] - 0s 66ms/step\n",
      "Unique values in y_lstm_preds before conversion: [0 1 2]\n",
      "Classes population after lstm : 0\n",
      "0    2\n",
      "1    2\n",
      "2    2\n",
      "Name: count, dtype: int64\n"
     ]
    },
    {
     "ename": "ValueError",
     "evalue": "too many values to unpack (expected 2)",
     "output_type": "error",
     "traceback": [
      "\u001b[0;31m---------------------------------------------------------------------------\u001b[0m",
      "\u001b[0;31mValueError\u001b[0m                                Traceback (most recent call last)",
      "Cell \u001b[0;32mIn[101], line 1\u001b[0m\n\u001b[0;32m----> 1\u001b[0m y_pred \u001b[38;5;241m=\u001b[39m \u001b[43mhybrid_prediction_pred\u001b[49m\u001b[43m(\u001b[49m\u001b[43mX_pred\u001b[49m\u001b[43m,\u001b[49m\u001b[43m \u001b[49m\u001b[43mlstm\u001b[49m\u001b[43m,\u001b[49m\u001b[43mbinary_rocket\u001b[49m\u001b[43m)\u001b[49m\n\u001b[1;32m      3\u001b[0m \u001b[38;5;28mprint\u001b[39m(\u001b[38;5;124m\"\u001b[39m\u001b[38;5;124mFinal predictions:\u001b[39m\u001b[38;5;124m\"\u001b[39m, y_pred)\n",
      "Cell \u001b[0;32mIn[100], line 24\u001b[0m, in \u001b[0;36mhybrid_prediction_pred\u001b[0;34m(X_pred, lstm, binary_rocket)\u001b[0m\n\u001b[1;32m     22\u001b[0m X_test_rocket \u001b[38;5;241m=\u001b[39m X_pred[mask]\n\u001b[1;32m     23\u001b[0m \u001b[38;5;66;03m# encoding data for Rocket\u001b[39;00m\n\u001b[0;32m---> 24\u001b[0m X_test_rocket \u001b[38;5;241m=\u001b[39m\u001b[43mfrom_2d_array_to_nested\u001b[49m\u001b[43m(\u001b[49m\u001b[43mX_test_rocket\u001b[49m\u001b[43m,\u001b[49m\u001b[43m \u001b[49m\u001b[43mindex\u001b[49m\u001b[38;5;241;43m=\u001b[39;49m\u001b[38;5;28;43;01mNone\u001b[39;49;00m\u001b[43m,\u001b[49m\u001b[43m \u001b[49m\u001b[43mcolumns\u001b[49m\u001b[38;5;241;43m=\u001b[39;49m\u001b[38;5;28;43;01mNone\u001b[39;49;00m\u001b[43m,\u001b[49m\u001b[43m \u001b[49m\u001b[43mtime_index\u001b[49m\u001b[38;5;241;43m=\u001b[39;49m\u001b[38;5;28;43;01mNone\u001b[39;49;00m\u001b[43m,\u001b[49m\u001b[43m \u001b[49m\u001b[43mcells_as_numpy\u001b[49m\u001b[38;5;241;43m=\u001b[39;49m\u001b[38;5;28;43;01mFalse\u001b[39;49;00m\u001b[43m)\u001b[49m\n\u001b[1;32m     26\u001b[0m \u001b[38;5;66;03m# Step 3: Convert to nested format for ROCKET\u001b[39;00m\n\u001b[1;32m     27\u001b[0m \u001b[38;5;28;01mif\u001b[39;00m X_pred_rocket\u001b[38;5;241m.\u001b[39mshape[\u001b[38;5;241m0\u001b[39m] \u001b[38;5;241m>\u001b[39m \u001b[38;5;241m0\u001b[39m:  \u001b[38;5;66;03m# Avoid empty case\u001b[39;00m\n",
      "Cell \u001b[0;32mIn[48], line 13\u001b[0m, in \u001b[0;36mfrom_2d_array_to_nested\u001b[0;34m(X_train, y_train, index, columns, time_index, cells_as_numpy)\u001b[0m\n\u001b[1;32m     10\u001b[0m     X_train \u001b[38;5;241m=\u001b[39m X_train\u001b[38;5;241m.\u001b[39mto_numpy()\n\u001b[1;32m     12\u001b[0m container \u001b[38;5;241m=\u001b[39m np\u001b[38;5;241m.\u001b[39marray \u001b[38;5;28;01mif\u001b[39;00m cells_as_numpy \u001b[38;5;28;01melse\u001b[39;00m pd\u001b[38;5;241m.\u001b[39mSeries\n\u001b[0;32m---> 13\u001b[0m n_instances, n_timepoints \u001b[38;5;241m=\u001b[39m X_train\u001b[38;5;241m.\u001b[39mshape\n\u001b[1;32m     15\u001b[0m \u001b[38;5;28;01mif\u001b[39;00m time_index \u001b[38;5;129;01mis\u001b[39;00m \u001b[38;5;28;01mNone\u001b[39;00m:\n\u001b[1;32m     16\u001b[0m     time_index \u001b[38;5;241m=\u001b[39m np\u001b[38;5;241m.\u001b[39marange(n_timepoints)\n",
      "\u001b[0;31mValueError\u001b[0m: too many values to unpack (expected 2)"
     ]
    }
   ],
   "source": [
    "y_pred = hybrid_prediction_pred(X_pred, lstm,binary_rocket)\n",
    "\n",
    "print(\"Final predictions:\", y_pred)"
   ]
  },
  {
   "cell_type": "code",
   "execution_count": null,
   "id": "81f88294",
   "metadata": {},
   "outputs": [],
   "source": []
  },
  {
   "cell_type": "code",
   "execution_count": null,
   "id": "d2a4d01f",
   "metadata": {},
   "outputs": [],
   "source": []
  },
  {
   "cell_type": "code",
   "execution_count": null,
   "id": "cf4201d8",
   "metadata": {},
   "outputs": [],
   "source": []
  }
 ],
 "metadata": {
  "kernelspec": {
   "display_name": "Python 3 (ipykernel)",
   "language": "python",
   "name": "python3"
  },
  "language_info": {
   "codemirror_mode": {
    "name": "ipython",
    "version": 3
   },
   "file_extension": ".py",
   "mimetype": "text/x-python",
   "name": "python",
   "nbconvert_exporter": "python",
   "pygments_lexer": "ipython3",
   "version": "3.10.6"
  },
  "toc": {
   "base_numbering": 1,
   "nav_menu": {},
   "number_sections": true,
   "sideBar": true,
   "skip_h1_title": false,
   "title_cell": "Table of Contents",
   "title_sidebar": "Contents",
   "toc_cell": false,
   "toc_position": {},
   "toc_section_display": true,
   "toc_window_display": false
  },
  "varInspector": {
   "cols": {
    "lenName": 16,
    "lenType": 16,
    "lenVar": 40
   },
   "kernels_config": {
    "python": {
     "delete_cmd_postfix": "",
     "delete_cmd_prefix": "del ",
     "library": "var_list.py",
     "varRefreshCmd": "print(var_dic_list())"
    },
    "r": {
     "delete_cmd_postfix": ") ",
     "delete_cmd_prefix": "rm(",
     "library": "var_list.r",
     "varRefreshCmd": "cat(var_dic_list()) "
    }
   },
   "types_to_exclude": [
    "module",
    "function",
    "builtin_function_or_method",
    "instance",
    "_Feature"
   ],
   "window_display": false
  }
 },
 "nbformat": 4,
 "nbformat_minor": 5
}
