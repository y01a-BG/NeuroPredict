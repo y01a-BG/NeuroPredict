{
 "cells": [
  {
   "cell_type": "code",
   "execution_count": 1,
   "metadata": {},
   "outputs": [
    {
     "name": "stdout",
     "output_type": "stream",
     "text": [
      "/home/jovana/code/y01a-BG/NeuroPredict/notebooks\r\n"
     ]
    }
   ],
   "source": [
    "!pwd"
   ]
  },
  {
   "cell_type": "code",
   "execution_count": 2,
   "metadata": {},
   "outputs": [],
   "source": [
    "import pandas as pd\n",
    "import numpy as np\n",
    "import matplotlib.pyplot as plt\n",
    "import seaborn as sns\n",
    "from sklearn.metrics import confusion_matrix, classification_report\n",
    "from sktime.classification.kernel_based import RocketClassifier"
   ]
  },
  {
   "cell_type": "code",
   "execution_count": 4,
   "metadata": {},
   "outputs": [
    {
     "name": "stderr",
     "output_type": "stream",
     "text": [
      "2025-03-24 17:37:42.558735: I tensorflow/core/platform/cpu_feature_guard.cc:193] This TensorFlow binary is optimized with oneAPI Deep Neural Network Library (oneDNN) to use the following CPU instructions in performance-critical operations:  AVX2 AVX_VNNI FMA\n",
      "To enable them in other operations, rebuild TensorFlow with the appropriate compiler flags.\n",
      "2025-03-24 17:37:42.928652: I tensorflow/core/util/util.cc:169] oneDNN custom operations are on. You may see slightly different numerical results due to floating-point round-off errors from different computation orders. To turn them off, set the environment variable `TF_ENABLE_ONEDNN_OPTS=0`.\n",
      "2025-03-24 17:37:42.943863: W tensorflow/stream_executor/platform/default/dso_loader.cc:64] Could not load dynamic library 'libcudart.so.11.0'; dlerror: libcudart.so.11.0: cannot open shared object file: No such file or directory\n",
      "2025-03-24 17:37:42.943904: I tensorflow/stream_executor/cuda/cudart_stub.cc:29] Ignore above cudart dlerror if you do not have a GPU set up on your machine.\n",
      "2025-03-24 17:37:42.979544: E tensorflow/stream_executor/cuda/cuda_blas.cc:2981] Unable to register cuBLAS factory: Attempting to register factory for plugin cuBLAS when one has already been registered\n",
      "2025-03-24 17:37:44.590771: W tensorflow/stream_executor/platform/default/dso_loader.cc:64] Could not load dynamic library 'libnvinfer.so.7'; dlerror: libnvinfer.so.7: cannot open shared object file: No such file or directory\n",
      "2025-03-24 17:37:44.590971: W tensorflow/stream_executor/platform/default/dso_loader.cc:64] Could not load dynamic library 'libnvinfer_plugin.so.7'; dlerror: libnvinfer_plugin.so.7: cannot open shared object file: No such file or directory\n",
      "2025-03-24 17:37:44.590980: W tensorflow/compiler/tf2tensorrt/utils/py_utils.cc:38] TF-TRT Warning: Cannot dlopen some TensorRT libraries. If you would like to use Nvidia GPU with TensorRT, please make sure the missing libraries mentioned above are installed properly.\n"
     ]
    }
   ],
   "source": [
    "import sys\n",
    "# Add the directory containing the EEG package to sys.path\n",
    "sys.path.append('/home/jovana/code/y01a-BG/NeuroPredict/EEG')\n",
    "import os\n",
    "import pandas as pd\n",
    "import numpy as np\n",
    "\n",
    "#from random_predict_data_00.py import random_samples_data\n",
    "from preprocessor_01 import preprocess_data\n",
    "from X_y_test_train_02 import test_train_split_save\n",
    "from encoding_03 import encoder_LSTM\n",
    "from modeling_04 import initialize_lstm_model, compile_lstm_model\n",
    "from training_05 import train_lstm_model\n",
    "# from evaluating_06 import evaluate_lstm\n",
    "# #from predictor_07 import pred_lstm\n"
   ]
  },
  {
   "cell_type": "code",
   "execution_count": 5,
   "metadata": {},
   "outputs": [],
   "source": [
    "input_path = \"/home/jovana/code/y01a-BG/NeuroPredict/raw_data\"\n",
    "file_name = \"Epileptic Seizure Recognition.csv\"\n",
    "file_path = os.path.join(input_path, file_name)\n",
    "\n",
    "output_path = \"/home/jovana/code/y01a-BG/NeuroPredict/processed_data\"\n",
    "data_file = \"data.csv\"\n",
    "data_path = os.path.join(output_path, data_file)\n",
    "data = pd.read_csv(file_path)\n",
    "\n"
   ]
  },
  {
   "cell_type": "code",
   "execution_count": 6,
   "metadata": {},
   "outputs": [
    {
     "data": {
      "text/plain": [
       "(11500, 180)"
      ]
     },
     "execution_count": 6,
     "metadata": {},
     "output_type": "execute_result"
    }
   ],
   "source": [
    "data.shape"
   ]
  },
  {
   "cell_type": "code",
   "execution_count": 7,
   "metadata": {},
   "outputs": [
    {
     "name": "stdout",
     "output_type": "stream",
     "text": [
      "✅ Data preprocessed and saved to: /home/jovana/code/y01a-BG/NeuroPredict/processed_data/data.csv\n"
     ]
    }
   ],
   "source": [
    "#######preprocessor_01\n",
    "data = preprocess_data(data, data_path)"
   ]
  },
  {
   "cell_type": "code",
   "execution_count": 8,
   "metadata": {},
   "outputs": [
    {
     "data": {
      "text/plain": [
       "(6900, 179)"
      ]
     },
     "execution_count": 8,
     "metadata": {},
     "output_type": "execute_result"
    }
   ],
   "source": [
    "data.shape"
   ]
  },
  {
   "cell_type": "markdown",
   "metadata": {},
   "source": [
    "# Removing 3x2 samples from each class to use for pred"
   ]
  },
  {
   "cell_type": "code",
   "execution_count": 10,
   "metadata": {},
   "outputs": [
    {
     "name": "stderr",
     "output_type": "stream",
     "text": [
      "/tmp/ipykernel_375477/3536421302.py:1: DeprecationWarning: DataFrameGroupBy.apply operated on the grouping columns. This behavior is deprecated, and in a future version of pandas the grouping columns will be excluded from the operation. Either pass `include_groups=False` to exclude the groupings or explicitly select the grouping columns after groupby to silence this warning.\n",
      "  selected_samples = data.groupby(\"y\", group_keys=False).apply(lambda x: x.sample(2, random_state=42))\n"
     ]
    }
   ],
   "source": [
    "selected_samples = data.groupby(\"y\", group_keys=False).apply(lambda x: x.sample(2, random_state=42))"
   ]
  },
  {
   "cell_type": "code",
   "execution_count": 11,
   "metadata": {},
   "outputs": [
    {
     "data": {
      "text/html": [
       "<div>\n",
       "<style scoped>\n",
       "    .dataframe tbody tr th:only-of-type {\n",
       "        vertical-align: middle;\n",
       "    }\n",
       "\n",
       "    .dataframe tbody tr th {\n",
       "        vertical-align: top;\n",
       "    }\n",
       "\n",
       "    .dataframe thead th {\n",
       "        text-align: right;\n",
       "    }\n",
       "</style>\n",
       "<table border=\"1\" class=\"dataframe\">\n",
       "  <thead>\n",
       "    <tr style=\"text-align: right;\">\n",
       "      <th></th>\n",
       "      <th>X1</th>\n",
       "      <th>X2</th>\n",
       "      <th>X3</th>\n",
       "      <th>X4</th>\n",
       "      <th>X5</th>\n",
       "      <th>X6</th>\n",
       "      <th>X7</th>\n",
       "      <th>X8</th>\n",
       "      <th>X9</th>\n",
       "      <th>X10</th>\n",
       "      <th>...</th>\n",
       "      <th>X170</th>\n",
       "      <th>X171</th>\n",
       "      <th>X172</th>\n",
       "      <th>X173</th>\n",
       "      <th>X174</th>\n",
       "      <th>X175</th>\n",
       "      <th>X176</th>\n",
       "      <th>X177</th>\n",
       "      <th>X178</th>\n",
       "      <th>y</th>\n",
       "    </tr>\n",
       "  </thead>\n",
       "  <tbody>\n",
       "    <tr>\n",
       "      <th>3730</th>\n",
       "      <td>-759</td>\n",
       "      <td>-573</td>\n",
       "      <td>-391</td>\n",
       "      <td>-253</td>\n",
       "      <td>-141</td>\n",
       "      <td>-57</td>\n",
       "      <td>31</td>\n",
       "      <td>112</td>\n",
       "      <td>181</td>\n",
       "      <td>242</td>\n",
       "      <td>...</td>\n",
       "      <td>-602</td>\n",
       "      <td>-445</td>\n",
       "      <td>-310</td>\n",
       "      <td>-217</td>\n",
       "      <td>-134</td>\n",
       "      <td>-52</td>\n",
       "      <td>21</td>\n",
       "      <td>102</td>\n",
       "      <td>188</td>\n",
       "      <td>1</td>\n",
       "    </tr>\n",
       "    <tr>\n",
       "      <th>9650</th>\n",
       "      <td>75</td>\n",
       "      <td>57</td>\n",
       "      <td>24</td>\n",
       "      <td>-2</td>\n",
       "      <td>-16</td>\n",
       "      <td>-9</td>\n",
       "      <td>10</td>\n",
       "      <td>-68</td>\n",
       "      <td>-342</td>\n",
       "      <td>-480</td>\n",
       "      <td>...</td>\n",
       "      <td>129</td>\n",
       "      <td>68</td>\n",
       "      <td>6</td>\n",
       "      <td>-39</td>\n",
       "      <td>-40</td>\n",
       "      <td>-30</td>\n",
       "      <td>-19</td>\n",
       "      <td>-25</td>\n",
       "      <td>-30</td>\n",
       "      <td>1</td>\n",
       "    </tr>\n",
       "    <tr>\n",
       "      <th>3754</th>\n",
       "      <td>-74</td>\n",
       "      <td>-85</td>\n",
       "      <td>-97</td>\n",
       "      <td>-101</td>\n",
       "      <td>-106</td>\n",
       "      <td>-107</td>\n",
       "      <td>-107</td>\n",
       "      <td>-97</td>\n",
       "      <td>-88</td>\n",
       "      <td>-74</td>\n",
       "      <td>...</td>\n",
       "      <td>-42</td>\n",
       "      <td>-30</td>\n",
       "      <td>-27</td>\n",
       "      <td>-19</td>\n",
       "      <td>-14</td>\n",
       "      <td>-12</td>\n",
       "      <td>-18</td>\n",
       "      <td>-19</td>\n",
       "      <td>-22</td>\n",
       "      <td>2</td>\n",
       "    </tr>\n",
       "    <tr>\n",
       "      <th>9497</th>\n",
       "      <td>77</td>\n",
       "      <td>78</td>\n",
       "      <td>80</td>\n",
       "      <td>88</td>\n",
       "      <td>88</td>\n",
       "      <td>85</td>\n",
       "      <td>90</td>\n",
       "      <td>88</td>\n",
       "      <td>91</td>\n",
       "      <td>82</td>\n",
       "      <td>...</td>\n",
       "      <td>625</td>\n",
       "      <td>621</td>\n",
       "      <td>604</td>\n",
       "      <td>576</td>\n",
       "      <td>554</td>\n",
       "      <td>527</td>\n",
       "      <td>500</td>\n",
       "      <td>474</td>\n",
       "      <td>433</td>\n",
       "      <td>2</td>\n",
       "    </tr>\n",
       "    <tr>\n",
       "      <th>3655</th>\n",
       "      <td>-27</td>\n",
       "      <td>-10</td>\n",
       "      <td>-1</td>\n",
       "      <td>5</td>\n",
       "      <td>15</td>\n",
       "      <td>21</td>\n",
       "      <td>35</td>\n",
       "      <td>44</td>\n",
       "      <td>56</td>\n",
       "      <td>60</td>\n",
       "      <td>...</td>\n",
       "      <td>-97</td>\n",
       "      <td>-96</td>\n",
       "      <td>-87</td>\n",
       "      <td>-81</td>\n",
       "      <td>-83</td>\n",
       "      <td>-72</td>\n",
       "      <td>-67</td>\n",
       "      <td>-60</td>\n",
       "      <td>-55</td>\n",
       "      <td>3</td>\n",
       "    </tr>\n",
       "    <tr>\n",
       "      <th>9545</th>\n",
       "      <td>30</td>\n",
       "      <td>23</td>\n",
       "      <td>30</td>\n",
       "      <td>35</td>\n",
       "      <td>42</td>\n",
       "      <td>52</td>\n",
       "      <td>61</td>\n",
       "      <td>63</td>\n",
       "      <td>63</td>\n",
       "      <td>60</td>\n",
       "      <td>...</td>\n",
       "      <td>40</td>\n",
       "      <td>48</td>\n",
       "      <td>48</td>\n",
       "      <td>53</td>\n",
       "      <td>56</td>\n",
       "      <td>62</td>\n",
       "      <td>71</td>\n",
       "      <td>76</td>\n",
       "      <td>77</td>\n",
       "      <td>3</td>\n",
       "    </tr>\n",
       "  </tbody>\n",
       "</table>\n",
       "<p>6 rows × 179 columns</p>\n",
       "</div>"
      ],
      "text/plain": [
       "       X1   X2   X3   X4   X5   X6   X7   X8   X9  X10  ...  X170  X171  X172  \\\n",
       "3730 -759 -573 -391 -253 -141  -57   31  112  181  242  ...  -602  -445  -310   \n",
       "9650   75   57   24   -2  -16   -9   10  -68 -342 -480  ...   129    68     6   \n",
       "3754  -74  -85  -97 -101 -106 -107 -107  -97  -88  -74  ...   -42   -30   -27   \n",
       "9497   77   78   80   88   88   85   90   88   91   82  ...   625   621   604   \n",
       "3655  -27  -10   -1    5   15   21   35   44   56   60  ...   -97   -96   -87   \n",
       "9545   30   23   30   35   42   52   61   63   63   60  ...    40    48    48   \n",
       "\n",
       "      X173  X174  X175  X176  X177  X178  y  \n",
       "3730  -217  -134   -52    21   102   188  1  \n",
       "9650   -39   -40   -30   -19   -25   -30  1  \n",
       "3754   -19   -14   -12   -18   -19   -22  2  \n",
       "9497   576   554   527   500   474   433  2  \n",
       "3655   -81   -83   -72   -67   -60   -55  3  \n",
       "9545    53    56    62    71    76    77  3  \n",
       "\n",
       "[6 rows x 179 columns]"
      ]
     },
     "execution_count": 11,
     "metadata": {},
     "output_type": "execute_result"
    }
   ],
   "source": [
    "selected_samples"
   ]
  },
  {
   "cell_type": "code",
   "execution_count": 12,
   "metadata": {},
   "outputs": [],
   "source": [
    "# Remove the selected samples from the original datase\n",
    "data = data.drop(selected_samples.index)"
   ]
  },
  {
   "cell_type": "code",
   "execution_count": 13,
   "metadata": {},
   "outputs": [
    {
     "data": {
      "text/plain": [
       "(6894, 179)"
      ]
     },
     "execution_count": 13,
     "metadata": {},
     "output_type": "execute_result"
    }
   ],
   "source": [
    "data.shape"
   ]
  },
  {
   "cell_type": "code",
   "execution_count": 14,
   "metadata": {},
   "outputs": [
    {
     "name": "stdout",
     "output_type": "stream",
     "text": [
      "✅ Raw data cleaned and separated (X,y)\n"
     ]
    }
   ],
   "source": [
    "X = data.drop(columns = 'y')\n",
    "y = data.y\n",
    "print(f\"✅ Raw data cleaned and separated (X,y)\")"
   ]
  },
  {
   "cell_type": "code",
   "execution_count": 15,
   "metadata": {},
   "outputs": [
    {
     "name": "stdout",
     "output_type": "stream",
     "text": [
      "✅ Data split into train/test and saved as .csv\n"
     ]
    }
   ],
   "source": [
    "####### test_and_train_split_02\n",
    "X_train, X_test, y_train, y_test = test_train_split_save(X,y,output_path)"
   ]
  },
  {
   "cell_type": "code",
   "execution_count": 16,
   "metadata": {},
   "outputs": [
    {
     "name": "stdout",
     "output_type": "stream",
     "text": [
      "✅ Train data encoded for LSTM, with X_train shape : (5515, 178, 1) and y_train shape; (5515, 3)\n",
      "✅ Train data encoded for LSTM, with X_train shape : (1379, 178, 1) and y_train shape; (1379, 3)\n"
     ]
    }
   ],
   "source": [
    "#### encoding_03 for LSTM\n",
    "X_train_lstm,y_train_lstm = encoder_LSTM(X_train,y_train)\n",
    "X_test_lstm, y_test_lstm = encoder_LSTM(X_test, y_test)"
   ]
  },
  {
   "cell_type": "code",
   "execution_count": 17,
   "metadata": {},
   "outputs": [
    {
     "name": "stderr",
     "output_type": "stream",
     "text": [
      "2025-03-24 17:38:21.753943: I tensorflow/stream_executor/cuda/cuda_gpu_executor.cc:966] could not open file to read NUMA node: /sys/bus/pci/devices/0000:01:00.0/numa_node\n",
      "Your kernel may have been built without NUMA support.\n",
      "2025-03-24 17:38:21.754397: W tensorflow/stream_executor/platform/default/dso_loader.cc:64] Could not load dynamic library 'libcudart.so.11.0'; dlerror: libcudart.so.11.0: cannot open shared object file: No such file or directory\n",
      "2025-03-24 17:38:21.754448: W tensorflow/stream_executor/platform/default/dso_loader.cc:64] Could not load dynamic library 'libcublas.so.11'; dlerror: libcublas.so.11: cannot open shared object file: No such file or directory\n",
      "2025-03-24 17:38:21.754482: W tensorflow/stream_executor/platform/default/dso_loader.cc:64] Could not load dynamic library 'libcublasLt.so.11'; dlerror: libcublasLt.so.11: cannot open shared object file: No such file or directory\n",
      "2025-03-24 17:38:21.754517: W tensorflow/stream_executor/platform/default/dso_loader.cc:64] Could not load dynamic library 'libcufft.so.10'; dlerror: libcufft.so.10: cannot open shared object file: No such file or directory\n",
      "2025-03-24 17:38:21.754549: W tensorflow/stream_executor/platform/default/dso_loader.cc:64] Could not load dynamic library 'libcurand.so.10'; dlerror: libcurand.so.10: cannot open shared object file: No such file or directory\n",
      "2025-03-24 17:38:21.754583: W tensorflow/stream_executor/platform/default/dso_loader.cc:64] Could not load dynamic library 'libcusolver.so.11'; dlerror: libcusolver.so.11: cannot open shared object file: No such file or directory\n",
      "2025-03-24 17:38:21.754613: W tensorflow/stream_executor/platform/default/dso_loader.cc:64] Could not load dynamic library 'libcusparse.so.11'; dlerror: libcusparse.so.11: cannot open shared object file: No such file or directory\n",
      "2025-03-24 17:38:21.754648: W tensorflow/stream_executor/platform/default/dso_loader.cc:64] Could not load dynamic library 'libcudnn.so.8'; dlerror: libcudnn.so.8: cannot open shared object file: No such file or directory\n",
      "2025-03-24 17:38:21.754682: W tensorflow/core/common_runtime/gpu/gpu_device.cc:1934] Cannot dlopen some GPU libraries. Please make sure the missing libraries mentioned above are installed properly if you would like to use GPU. Follow the guide at https://www.tensorflow.org/install/gpu for how to download and setup the required libraries for your platform.\n",
      "Skipping registering GPU devices...\n",
      "2025-03-24 17:38:21.755688: I tensorflow/core/platform/cpu_feature_guard.cc:193] This TensorFlow binary is optimized with oneAPI Deep Neural Network Library (oneDNN) to use the following CPU instructions in performance-critical operations:  AVX2 AVX_VNNI FMA\n",
      "To enable them in other operations, rebuild TensorFlow with the appropriate compiler flags.\n"
     ]
    },
    {
     "name": "stdout",
     "output_type": "stream",
     "text": [
      "✅ Improved LSTM Model1 initialized\n",
      "✅ LSTM Model compiled\n"
     ]
    }
   ],
   "source": [
    "### modeling_04 for LSTM\n",
    "input_shape = (178,1)\n",
    "model = initialize_lstm_model(input_shape)\n",
    "modelLSTM = compile_lstm_model(model)"
   ]
  },
  {
   "cell_type": "code",
   "execution_count": 18,
   "metadata": {},
   "outputs": [
    {
     "name": "stdout",
     "output_type": "stream",
     "text": [
      "\u001b[34m\n",
      "Training model...\u001b[0m\n",
      "Epoch 1/150\n",
      "35/35 [==============================] - 41s 851ms/step - loss: 8.1601 - accuracy: 0.5936 - val_loss: 6.0712 - val_accuracy: 0.5911\n",
      "Epoch 2/150\n",
      "35/35 [==============================] - 39s 1s/step - loss: 4.5273 - accuracy: 0.6228 - val_loss: 3.4126 - val_accuracy: 0.5839\n",
      "Epoch 3/150\n",
      "35/35 [==============================] - 45s 1s/step - loss: 2.6612 - accuracy: 0.6410 - val_loss: 2.1248 - val_accuracy: 0.5956\n",
      "Epoch 4/150\n",
      "35/35 [==============================] - 45s 1s/step - loss: 1.7516 - accuracy: 0.6455 - val_loss: 1.4907 - val_accuracy: 0.6482\n",
      "Epoch 5/150\n",
      "35/35 [==============================] - 48s 1s/step - loss: 1.3576 - accuracy: 0.6335 - val_loss: 1.2797 - val_accuracy: 0.6011\n",
      "Epoch 6/150\n",
      "35/35 [==============================] - 29s 834ms/step - loss: 1.1322 - accuracy: 0.6426 - val_loss: 1.0399 - val_accuracy: 0.6283\n",
      "Epoch 7/150\n",
      "35/35 [==============================] - 34s 967ms/step - loss: 0.9533 - accuracy: 0.6516 - val_loss: 0.9151 - val_accuracy: 0.6464\n",
      "Epoch 8/150\n",
      "35/35 [==============================] - 34s 983ms/step - loss: 0.8469 - accuracy: 0.6435 - val_loss: 0.8472 - val_accuracy: 0.6319\n",
      "Epoch 9/150\n",
      "35/35 [==============================] - 34s 962ms/step - loss: 0.8084 - accuracy: 0.6403 - val_loss: 0.8057 - val_accuracy: 0.6256\n",
      "Epoch 10/150\n",
      "35/35 [==============================] - ETA: 0s - loss: 0.7456 - accuracy: 0.6473Restoring model weights from the end of the best epoch: 9.\n",
      "35/35 [==============================] - 34s 986ms/step - loss: 0.7456 - accuracy: 0.6473 - val_loss: 0.8482 - val_accuracy: 0.5984\n",
      "Epoch 10: early stopping\n",
      "✅ LSTM Model trained on 5515 rows with min val MAE: 0.81\n"
     ]
    }
   ],
   "source": [
    "##### training_05\n",
    "modelLSTM,history_lstm = train_lstm_model(modelLSTM,\n",
    "        X_train_lstm,y_train_lstm,\n",
    "        batch_size=128,\n",
    "        patience=1,\n",
    "        validation_split=0.2\n",
    "        )"
   ]
  },
  {
   "cell_type": "code",
   "execution_count": 19,
   "metadata": {},
   "outputs": [],
   "source": [
    "import matplotlib.pyplot as plt\n",
    "def plot_history(history):\n",
    "    fig, ax = plt.subplots(1, 2, figsize=(15,5))\n",
    "    ax[0].set_title('loss')\n",
    "    ax[0].plot(history.epoch, history.history[\"loss\"], label=\"Train loss\")\n",
    "    ax[0].plot(history.epoch, history.history[\"val_loss\"], label=\"Validation loss\")\n",
    "    ax[1].set_title('accuracy')\n",
    "    ax[1].plot(history.epoch, history.history[\"accuracy\"], label=\"Train acc\")\n",
    "    ax[1].plot(history.epoch, history.history[\"val_accuracy\"], label=\"Validation acc\")\n",
    "    ax[0].legend()\n",
    "    ax[1].legend()"
   ]
  },
  {
   "cell_type": "code",
   "execution_count": 20,
   "metadata": {},
   "outputs": [
    {
     "data": {
      "image/png": "[encoded data removed]",
      "text/plain": [
       "<Figure size 1500x500 with 2 Axes>"
      ]
     },
     "metadata": {},
     "output_type": "display_data"
    }
   ],
   "source": [
    "plot_history(history_lstm)"
   ]
  },
  {
   "cell_type": "code",
   "execution_count": null,
   "metadata": {},
   "outputs": [],
   "source": [
    "# Save LSTM  trained model\n",
    "#model.save(\"models/LSTMmodel.h5\")"
   ]
  },
  {
   "cell_type": "code",
   "execution_count": 21,
   "metadata": {},
   "outputs": [
    {
     "name": "stdout",
     "output_type": "stream",
     "text": [
      "44/44 [==============================] - 8s 125ms/step\n",
      "✅ \n",
      "Confusion Matrix:\n",
      "[[411  13  11]\n",
      " [ 11  46 411]\n",
      " [  3  43 430]]\n",
      "✅ \n",
      "Classification Report:\n",
      "              precision    recall  f1-score   support\n",
      "\n",
      "     Class 0       0.97      0.94      0.96       435\n",
      "     Class 1       0.45      0.10      0.16       468\n",
      "     Class 2       0.50      0.90      0.65       476\n",
      "\n",
      "    accuracy                           0.64      1379\n",
      "   macro avg       0.64      0.65      0.59      1379\n",
      "weighted avg       0.63      0.64      0.58      1379\n",
      "\n"
     ]
    }
   ],
   "source": [
    "# evaluating_06\n",
    "# Assuming model.predict(X_test) gives probabilities for each class\n",
    "\n",
    "from sklearn.metrics import accuracy_score, precision_score, recall_score, f1_score, confusion_matrix\n",
    "from sklearn.metrics import classification_report\n",
    "y_pred_probs = model.predict(X_test_lstm)\n",
    "\n",
    "# Convert probabilities to class labels (index of the max probability)\n",
    "y_pred_labels = np.argmax(y_pred_probs, axis=1)\n",
    "y_test_labels = np.argmax(y_test_lstm, axis=1)\n",
    "\n",
    "# Calculate accuracy score\n",
    "accuracy = accuracy_score(y_test_labels, y_pred_labels)\n",
    "precision = precision_score(y_test_labels, y_pred_labels, average='macro')  # 'macro' averages metrics across all classes\n",
    "recall = recall_score(y_test_labels, y_pred_labels, average='macro')\n",
    "f1 = f1_score(y_test_labels, y_pred_labels, average='macro')\n",
    "\n",
    "# Display results as a table\n",
    "results = {\n",
    "        'Metric': ['Accuracy', 'Precision (Macro)', 'Recall (Macro)', 'F1-Score (Macro)'],\n",
    "        'Score': [accuracy, precision, recall, f1]\n",
    "    }\n",
    "\n",
    "# Create DataFrame for easy display\n",
    "results_df = pd.DataFrame(results)\n",
    "\n",
    "# Confusion matrix\n",
    "conf_matrix = confusion_matrix(y_test_labels, y_pred_labels)\n",
    "print(\"✅ \\nConfusion Matrix:\")\n",
    "print(conf_matrix)\n",
    "# Create classification report (including precision, recall, f1-score per class)\n",
    "class_report = classification_report(y_test_labels, y_pred_labels, target_names=['Class 0', 'Class 1', 'Class 2'])\n",
    "print(\"✅ \\nClassification Report:\")\n",
    "print(class_report)"
   ]
  },
  {
   "cell_type": "code",
   "execution_count": 21,
   "metadata": {},
   "outputs": [
    {
     "name": "stdout",
     "output_type": "stream",
     "text": [
      "✅ y_train is not provided, only X_train will be encoded.\n",
      "1/1 [==============================] - 0s 72ms/step\n"
     ]
    }
   ],
   "source": [
    "#predicting_07\n",
    "X_processed_lstm = encoder_LSTM(X_pred)\n",
    "y_pred_probs = model.predict(X_processed_lstm)"
   ]
  },
  {
   "cell_type": "code",
   "execution_count": 22,
   "metadata": {},
   "outputs": [
    {
     "data": {
      "text/plain": [
       "array([[0.05624397, 0.42495462, 0.5188014 ],\n",
       "       [0.9818726 , 0.01272802, 0.00539934],\n",
       "       [0.08281998, 0.49621326, 0.42096674],\n",
       "       [0.02694325, 0.5086313 , 0.4644254 ],\n",
       "       [0.04104716, 0.4793772 , 0.47957566],\n",
       "       [0.04720894, 0.45192006, 0.500871  ]], dtype=float32)"
      ]
     },
     "execution_count": 22,
     "metadata": {},
     "output_type": "execute_result"
    }
   ],
   "source": [
    "y_pred_probs"
   ]
  },
  {
   "cell_type": "markdown",
   "metadata": {},
   "source": [
    "# Now, for classes 2 and 3 i want to use RocketClassifier"
   ]
  },
  {
   "cell_type": "code",
   "execution_count": 23,
   "metadata": {},
   "outputs": [],
   "source": [
    "data_rocket = data[~data['y'].isin([1,4, 5])]"
   ]
  },
  {
   "cell_type": "code",
   "execution_count": 26,
   "metadata": {},
   "outputs": [],
   "source": [
    "X_rocket = data_rocket.drop(columns = 'y')\n",
    "y_rocket = data_rocket.y"
   ]
  },
  {
   "cell_type": "code",
   "execution_count": 38,
   "metadata": {},
   "outputs": [
    {
     "data": {
      "text/plain": [
       "7        2\n",
       "12       3\n",
       "14       2\n",
       "15       3\n",
       "16       2\n",
       "        ..\n",
       "11491    2\n",
       "11493    2\n",
       "11494    3\n",
       "11495    2\n",
       "11498    3\n",
       "Name: y, Length: 4600, dtype: int64"
      ]
     },
     "execution_count": 38,
     "metadata": {},
     "output_type": "execute_result"
    }
   ],
   "source": [
    "y_rocket"
   ]
  },
  {
   "cell_type": "code",
   "execution_count": 43,
   "metadata": {},
   "outputs": [],
   "source": [
    "from sklearn.model_selection import train_test_split\n",
    "# Split the data into 70% train and 30% test, with random_state=42 for reproducibility\n",
    "X_train_rocket, X_test_rocket, y_train_rocket, y_test_rocket = train_test_split(X_rocket,y_rocket, test_size=0.2, random_state=42)"
   ]
  },
  {
   "cell_type": "code",
   "execution_count": 44,
   "metadata": {},
   "outputs": [
    {
     "data": {
      "text/plain": [
       "((3680, 178), (920, 178), (3680,), (920,))"
      ]
     },
     "execution_count": 44,
     "metadata": {},
     "output_type": "execute_result"
    }
   ],
   "source": [
    "X_train_rocket.shape, X_test_rocket.shape, y_train_rocket.shape, y_test_rocket.shape"
   ]
  },
  {
   "cell_type": "code",
   "execution_count": 28,
   "metadata": {},
   "outputs": [],
   "source": [
    "# Transform X_train needed for sktime\n",
    "def from_2d_array_to_nested(\n",
    "    X, index=None, columns=None, time_index=None, cells_as_numpy=False\n",
    "):\n",
    "    \"\"\"Convert 2D dataframe to nested dataframe.\n",
    "\n",
    "    Convert tabular pandas DataFrame with only primitives in cells into\n",
    "    nested pandas DataFrame with a single column.\n",
    "\n",
    "    Parameters\n",
    "    ----------\n",
    "    X : pd.DataFrame\n",
    "\n",
    "    cells_as_numpy : bool, default = False\n",
    "        If True, then nested cells contain NumPy array\n",
    "        If False, then nested cells contain pandas Series\n",
    "\n",
    "    index : array-like, shape=[n_samples], optional (default = None)\n",
    "        Sample (row) index of transformed DataFrame\n",
    "\n",
    "    time_index : array-like, shape=[n_obs], optional (default = None)\n",
    "        Time series index of transformed DataFrame\n",
    "\n",
    "    Returns\n",
    "    -------\n",
    "    Xt : pd.DataFrame\n",
    "        Transformed DataFrame in nested format\n",
    "    \"\"\"\n",
    "    if (time_index is not None) and cells_as_numpy:\n",
    "        raise ValueError(\n",
    "            \"`Time_index` cannot be specified when `return_arrays` is True, \"\n",
    "            \"time index can only be set to \"\n",
    "            \"pandas Series\"\n",
    "        )\n",
    "    if isinstance(X, pd.DataFrame):\n",
    "        X = X.to_numpy()\n",
    "\n",
    "    container = np.array if cells_as_numpy else pd.Series\n",
    "\n",
    "    # for 2d numpy array, rows represent instances, columns represent time points\n",
    "    n_instances, n_timepoints = X.shape\n",
    "\n",
    "    if time_index is None:\n",
    "        time_index = np.arange(n_timepoints)\n",
    "    kwargs = {\"index\": time_index}\n",
    "\n",
    "    Xt = pd.DataFrame(\n",
    "        pd.Series([container(X[i, :], **kwargs) for i in range(n_instances)])\n",
    "    )\n",
    "    if index is not None:\n",
    "        Xt.index = index\n",
    "    if columns is not None:\n",
    "        Xt.columns = columns\n",
    "    return Xt\n",
    "\n"
   ]
  },
  {
   "cell_type": "code",
   "execution_count": 45,
   "metadata": {},
   "outputs": [],
   "source": [
    "# Convert your X_train to nested format (if it's a 2D array where each row is a time series)\n",
    "X_train_rocket_nested = from_2d_array_to_nested(X_train_rocket)"
   ]
  },
  {
   "cell_type": "code",
   "execution_count": 46,
   "metadata": {},
   "outputs": [],
   "source": [
    "# Initialize Binary ROCKET classifier\n",
    "rocket_binary = RocketClassifier(num_kernels=1000,   #default=10,000\n",
    "                       rocket_transform='rocket',  #inputs = [“rocket”, “minirocket”, “multirocket”]\n",
    "                       max_dilations_per_kernel=32,\n",
    "                       n_features_per_kernel=4,\n",
    "                       use_multivariate='auto',\n",
    "                       n_jobs=-1,\n",
    "                       random_state=None)"
   ]
  },
  {
   "cell_type": "code",
   "execution_count": null,
   "metadata": {},
   "outputs": [],
   "source": [
    "from sklearn.model_selection import cross_val_score\n",
    "\n",
    "cv_scores = cross_val_score(rocket_binary,X_train_rocket_nested,y_train_rocket, cv=5)\n",
    "print(f\"Cross-validation accuracy: {np.mean(cv_scores):.4f} ± {np.std(cv_scores):.4f}\")"
   ]
  },
  {
   "cell_type": "code",
   "execution_count": 47,
   "metadata": {},
   "outputs": [
    {
     "data": {
      "text/html": [
       "<style>#sk-475c7291-ae56-4bca-bbc2-70cc41296313 {\n",
       "    /* Definition of color scheme common for light and dark mode */\n",
       "    --sklearn-color-text: black;\n",
       "    --sklearn-color-line: gray;\n",
       "    /* Definition of color scheme for objects */\n",
       "    --sklearn-color-level-0: #fff5e6;\n",
       "    --sklearn-color-level-1: #f6e4d2;\n",
       "    --sklearn-color-level-2: #ffe0b3;\n",
       "    --sklearn-color-level-3: chocolate;\n",
       "\n",
       "    /* Specific color for light theme */\n",
       "    --sklearn-color-text-on-default-background: var(--theme-code-foreground, var(--jp-content-font-color1, black));\n",
       "    --sklearn-color-background: var(--theme-background, var(--jp-layout-color0, white));\n",
       "    --sklearn-color-border-box: var(--theme-code-foreground, var(--jp-content-font-color1, black));\n",
       "    --sklearn-color-icon: #696969;\n",
       "\n",
       "    @media (prefers-color-scheme: dark) {\n",
       "      /* Redefinition of color scheme for dark theme */\n",
       "      --sklearn-color-text-on-default-background: var(--theme-code-foreground, var(--jp-content-font-color1, white));\n",
       "      --sklearn-color-background: var(--theme-background, var(--jp-layout-color0, #111));\n",
       "      --sklearn-color-border-box: var(--theme-code-foreground, var(--jp-content-font-color1, white));\n",
       "      --sklearn-color-icon: #878787;\n",
       "    }\n",
       "  }\n",
       "\n",
       "  #sk-475c7291-ae56-4bca-bbc2-70cc41296313 {\n",
       "    color: var(--sklearn-color-text);\n",
       "  }\n",
       "\n",
       "  #sk-475c7291-ae56-4bca-bbc2-70cc41296313 pre {\n",
       "    padding: 0;\n",
       "  }\n",
       "\n",
       "  #sk-475c7291-ae56-4bca-bbc2-70cc41296313 input.sk-hidden--visually {\n",
       "    border: 0;\n",
       "    clip: rect(1px 1px 1px 1px);\n",
       "    clip: rect(1px, 1px, 1px, 1px);\n",
       "    height: 1px;\n",
       "    margin: -1px;\n",
       "    overflow: hidden;\n",
       "    padding: 0;\n",
       "    position: absolute;\n",
       "    width: 1px;\n",
       "  }\n",
       "\n",
       "  #sk-475c7291-ae56-4bca-bbc2-70cc41296313 div.sk-dashed-wrapped {\n",
       "    border: 1px dashed var(--sklearn-color-line);\n",
       "    margin: 0 0.4em 0.5em 0.4em;\n",
       "    box-sizing: border-box;\n",
       "    padding-bottom: 0.4em;\n",
       "    background-color: var(--sklearn-color-background);\n",
       "  }\n",
       "\n",
       "  #sk-475c7291-ae56-4bca-bbc2-70cc41296313 div.sk-container {\n",
       "    /* jupyter's `normalize.less` sets `[hidden] { display: none; }`\n",
       "       but bootstrap.min.css set `[hidden] { display: none !important; }`\n",
       "       so we also need the `!important` here to be able to override the\n",
       "       default hidden behavior on the sphinx rendered scikit-learn.org.\n",
       "       See: https://github.com/scikit-learn/scikit-learn/issues/21755 */\n",
       "    display: inline-block !important;\n",
       "    position: relative;\n",
       "  }\n",
       "\n",
       "  #sk-475c7291-ae56-4bca-bbc2-70cc41296313 div.sk-text-repr-fallback {\n",
       "    display: none;\n",
       "  }\n",
       "\n",
       "  div.sk-parallel-item,\n",
       "  div.sk-serial,\n",
       "  div.sk-item {\n",
       "    /* draw centered vertical line to link estimators */\n",
       "    background-image: linear-gradient(var(--sklearn-color-text-on-default-background), var(--sklearn-color-text-on-default-background));\n",
       "    background-size: 2px 100%;\n",
       "    background-repeat: no-repeat;\n",
       "    background-position: center center;\n",
       "  }\n",
       "\n",
       "  /* Parallel-specific style estimator block */\n",
       "\n",
       "  #sk-475c7291-ae56-4bca-bbc2-70cc41296313 div.sk-parallel-item::after {\n",
       "    content: \"\";\n",
       "    width: 100%;\n",
       "    border-bottom: 2px solid var(--sklearn-color-text-on-default-background);\n",
       "    flex-grow: 1;\n",
       "  }\n",
       "\n",
       "  #sk-475c7291-ae56-4bca-bbc2-70cc41296313 div.sk-parallel {\n",
       "    display: flex;\n",
       "    align-items: stretch;\n",
       "    justify-content: center;\n",
       "    background-color: var(--sklearn-color-background);\n",
       "    position: relative;\n",
       "  }\n",
       "\n",
       "  #sk-475c7291-ae56-4bca-bbc2-70cc41296313 div.sk-parallel-item {\n",
       "    display: flex;\n",
       "    flex-direction: column;\n",
       "  }\n",
       "\n",
       "  #sk-475c7291-ae56-4bca-bbc2-70cc41296313 div.sk-parallel-item:first-child::after {\n",
       "    align-self: flex-end;\n",
       "    width: 50%;\n",
       "  }\n",
       "\n",
       "  #sk-475c7291-ae56-4bca-bbc2-70cc41296313 div.sk-parallel-item:last-child::after {\n",
       "    align-self: flex-start;\n",
       "    width: 50%;\n",
       "  }\n",
       "\n",
       "  #sk-475c7291-ae56-4bca-bbc2-70cc41296313 div.sk-parallel-item:only-child::after {\n",
       "    width: 0;\n",
       "  }\n",
       "\n",
       "  /* Serial-specific style estimator block */\n",
       "\n",
       "  #sk-475c7291-ae56-4bca-bbc2-70cc41296313 div.sk-serial {\n",
       "    display: flex;\n",
       "    flex-direction: column;\n",
       "    align-items: center;\n",
       "    background-color: var(--sklearn-color-background);\n",
       "    padding-right: 1em;\n",
       "    padding-left: 1em;\n",
       "  }\n",
       "\n",
       "\n",
       "  /* Toggleable style: style used for estimator/Pipeline/ColumnTransformer box that is\n",
       "  clickable and can be expanded/collapsed.\n",
       "  - Pipeline and ColumnTransformer use this feature and define the default style\n",
       "  - Estimators will overwrite some part of the style using the `sk-estimator` class\n",
       "  */\n",
       "\n",
       "  /* Pipeline and ColumnTransformer style (default) */\n",
       "\n",
       "  #sk-475c7291-ae56-4bca-bbc2-70cc41296313 div.sk-toggleable {\n",
       "    /* Default theme specific background. It is overwritten whether we have a\n",
       "    specific estimator or a Pipeline/ColumnTransformer */\n",
       "    background-color: var(--sklearn-color-background);\n",
       "  }\n",
       "\n",
       "  /* Toggleable label */\n",
       "  #sk-475c7291-ae56-4bca-bbc2-70cc41296313 label.sk-toggleable__label {\n",
       "    cursor: pointer;\n",
       "    display: block;\n",
       "    width: 100%;\n",
       "    margin-bottom: 0;\n",
       "    padding: 0.5em;\n",
       "    box-sizing: border-box;\n",
       "    text-align: center;\n",
       "  }\n",
       "\n",
       "  #sk-475c7291-ae56-4bca-bbc2-70cc41296313 label.sk-toggleable__label-arrow:before {\n",
       "    /* Arrow on the left of the label */\n",
       "    content: \"▸\";\n",
       "    float: left;\n",
       "    margin-right: 0.25em;\n",
       "    color: var(--sklearn-color-icon);\n",
       "  }\n",
       "\n",
       "  #sk-475c7291-ae56-4bca-bbc2-70cc41296313 label.sk-toggleable__label-arrow:hover:before {\n",
       "    color: var(--sklearn-color-text);\n",
       "  }\n",
       "\n",
       "  /* Toggleable content - dropdown */\n",
       "\n",
       "  #sk-475c7291-ae56-4bca-bbc2-70cc41296313 div.sk-toggleable__content {\n",
       "    max-height: 0;\n",
       "    max-width: 0;\n",
       "    overflow: hidden;\n",
       "    text-align: left;\n",
       "    background-color: var(--sklearn-color-level-0);\n",
       "  }\n",
       "\n",
       "  #sk-475c7291-ae56-4bca-bbc2-70cc41296313 div.sk-toggleable__content pre {\n",
       "    margin: 0.2em;\n",
       "    border-radius: 0.25em;\n",
       "    color: var(--sklearn-color-text);\n",
       "    background-color: var(--sklearn-color-level-0);\n",
       "  }\n",
       "\n",
       "  #sk-475c7291-ae56-4bca-bbc2-70cc41296313 input.sk-toggleable__control:checked~div.sk-toggleable__content {\n",
       "    /* Expand drop-down */\n",
       "    max-height: 200px;\n",
       "    max-width: 100%;\n",
       "    overflow: auto;\n",
       "  }\n",
       "\n",
       "  #sk-475c7291-ae56-4bca-bbc2-70cc41296313 input.sk-toggleable__control:checked~label.sk-toggleable__label-arrow:before {\n",
       "    content: \"▾\";\n",
       "  }\n",
       "\n",
       "  /* Pipeline/ColumnTransformer-specific style */\n",
       "\n",
       "  #sk-475c7291-ae56-4bca-bbc2-70cc41296313 div.sk-label input.sk-toggleable__control:checked~label.sk-toggleable__label {\n",
       "    color: var(--sklearn-color-text);\n",
       "    background-color: var(--sklearn-color-level-2);\n",
       "  }\n",
       "\n",
       "  /* Estimator-specific style */\n",
       "\n",
       "  /* Colorize estimator box */\n",
       "  #sk-475c7291-ae56-4bca-bbc2-70cc41296313 div.sk-estimator input.sk-toggleable__control:checked~label.sk-toggleable__label {\n",
       "    /* unfitted */\n",
       "    background-color: var(--sklearn-color-level-2);\n",
       "  }\n",
       "\n",
       "  #sk-475c7291-ae56-4bca-bbc2-70cc41296313 div.sk-label label.sk-toggleable__label,\n",
       "  #sk-475c7291-ae56-4bca-bbc2-70cc41296313 div.sk-label label {\n",
       "    /* The background is the default theme color */\n",
       "    color: var(--sklearn-color-text-on-default-background);\n",
       "  }\n",
       "\n",
       "  /* On hover, darken the color of the background */\n",
       "  #sk-475c7291-ae56-4bca-bbc2-70cc41296313 div.sk-label:hover label.sk-toggleable__label {\n",
       "    color: var(--sklearn-color-text);\n",
       "    background-color: var(--sklearn-color-level-2);\n",
       "  }\n",
       "\n",
       "  /* Estimator label */\n",
       "\n",
       "  #sk-475c7291-ae56-4bca-bbc2-70cc41296313 div.sk-label label {\n",
       "    font-family: monospace;\n",
       "    font-weight: bold;\n",
       "    display: inline-block;\n",
       "    line-height: 1.2em;\n",
       "  }\n",
       "\n",
       "  #sk-475c7291-ae56-4bca-bbc2-70cc41296313 div.sk-label-container {\n",
       "    text-align: center;\n",
       "  }\n",
       "\n",
       "  /* Estimator-specific */\n",
       "  #sk-475c7291-ae56-4bca-bbc2-70cc41296313 div.sk-estimator {\n",
       "    font-family: monospace;\n",
       "    border: 1px dotted var(--sklearn-color-border-box);\n",
       "    border-radius: 0.25em;\n",
       "    box-sizing: border-box;\n",
       "    margin-bottom: 0.5em;\n",
       "    background-color: var(--sklearn-color-level-0);\n",
       "  }\n",
       "\n",
       "  /* on hover */\n",
       "  #sk-475c7291-ae56-4bca-bbc2-70cc41296313 div.sk-estimator:hover {\n",
       "    background-color: var(--sklearn-color-level-2);\n",
       "  }\n",
       "\n",
       "  /* Specification for estimator info */\n",
       "\n",
       "  .sk-estimator-doc-link,\n",
       "  a:link.sk-estimator-doc-link,\n",
       "  a:visited.sk-estimator-doc-link {\n",
       "    float: right;\n",
       "    font-size: smaller;\n",
       "    line-height: 1em;\n",
       "    font-family: monospace;\n",
       "    background-color: var(--sklearn-color-background);\n",
       "    border-radius: 1em;\n",
       "    height: 1em;\n",
       "    width: 1em;\n",
       "    text-decoration: none !important;\n",
       "    margin-left: 1ex;\n",
       "    border: var(--sklearn-color-level-1) 1pt solid;\n",
       "    color: var(--sklearn-color-level-1);\n",
       "  }\n",
       "\n",
       "  /* On hover */\n",
       "  div.sk-estimator:hover .sk-estimator-doc-link:hover,\n",
       "  .sk-estimator-doc-link:hover,\n",
       "  div.sk-label-container:hover .sk-estimator-doc-link:hover,\n",
       "  .sk-estimator-doc-link:hover {\n",
       "    background-color: var(--sklearn-color-level-3);\n",
       "    color: var(--sklearn-color-background);\n",
       "    text-decoration: none;\n",
       "  }\n",
       "\n",
       "  /* Span, style for the box shown on hovering the info icon */\n",
       "  .sk-estimator-doc-link span {\n",
       "    display: none;\n",
       "    z-index: 9999;\n",
       "    position: relative;\n",
       "    font-weight: normal;\n",
       "    right: .2ex;\n",
       "    padding: .5ex;\n",
       "    margin: .5ex;\n",
       "    width: min-content;\n",
       "    min-width: 20ex;\n",
       "    max-width: 50ex;\n",
       "    color: var(--sklearn-color-text);\n",
       "    box-shadow: 2pt 2pt 4pt #999;\n",
       "    background: var(--sklearn-color-level-0);\n",
       "    border: .5pt solid var(--sklearn-color-level-3);\n",
       "  }\n",
       "\n",
       "  .sk-estimator-doc-link:hover span {\n",
       "    display: block;\n",
       "  }\n",
       "\n",
       "  /* \"?\"-specific style due to the `<a>` HTML tag */\n",
       "\n",
       "  #sk-475c7291-ae56-4bca-bbc2-70cc41296313 a.estimator_doc_link {\n",
       "    float: right;\n",
       "    font-size: 1rem;\n",
       "    line-height: 1em;\n",
       "    font-family: monospace;\n",
       "    background-color: var(--sklearn-color-background);\n",
       "    border-radius: 1rem;\n",
       "    height: 1rem;\n",
       "    width: 1rem;\n",
       "    text-decoration: none;\n",
       "    color: var(--sklearn-color-level-1);\n",
       "    border: var(--sklearn-color-level-1) 1pt solid;\n",
       "  }\n",
       "\n",
       "  /* On hover */\n",
       "  #sk-475c7291-ae56-4bca-bbc2-70cc41296313 a.estimator_doc_link:hover {\n",
       "    background-color: var(--sklearn-color-level-3);\n",
       "    color: var(--sklearn-color-background);\n",
       "    text-decoration: none;\n",
       "  }\n",
       "</style><div id='sk-475c7291-ae56-4bca-bbc2-70cc41296313' class=\"sk-top-container\"><div class=\"sk-text-repr-fallback\"><pre>RocketClassifier(n_jobs=-1, num_kernels=1000)</pre><b>Please rerun this cell to show the HTML repr or trust the notebook.</b></div><div class=\"sk-container\" hidden><div class='sk-item'><div class=\"sk-estimator sk-toggleable\"><input class=\"sk-toggleable__control sk-hidden--visually\" id=UUID('aa5a1ef7-020e-4c1d-97f8-2685f6648656') type=\"checkbox\" checked><label for=UUID('aa5a1ef7-020e-4c1d-97f8-2685f6648656') class='sk-toggleable__label sk-toggleable__label-arrow'>RocketClassifier<a class=\"sk-estimator-doc-link\" rel=\"noreferrer\" target=\"_blank\" href=\"https://www.sktime.net/en/v0.36.0/api_reference/auto_generated/sktime.classification.kernel_based.RocketClassifier.html\">?<span>Documentation for RocketClassifier</span></a></label><div class=\"sk-toggleable__content\"><pre>RocketClassifier(n_jobs=-1, num_kernels=1000)</pre></div></div></div></div></div>"
      ],
      "text/plain": [
       "RocketClassifier(n_jobs=-1, num_kernels=1000)"
      ]
     },
     "execution_count": 47,
     "metadata": {},
     "output_type": "execute_result"
    }
   ],
   "source": [
    "# fit the Rocket Classifier\n",
    "rocket_binary.fit(X_train_rocket_nested, y_train_rocket)"
   ]
  },
  {
   "cell_type": "code",
   "execution_count": 48,
   "metadata": {},
   "outputs": [],
   "source": [
    "# Evaluate the model on test data\n",
    "X_test_rocket_nested = from_2d_array_to_nested(X_test_rocket)"
   ]
  },
  {
   "cell_type": "code",
   "execution_count": 49,
   "metadata": {},
   "outputs": [],
   "source": [
    "y_pred = rocket_binary.predict(X_test_rocket_nested)"
   ]
  },
  {
   "cell_type": "code",
   "execution_count": 53,
   "metadata": {},
   "outputs": [
    {
     "data": {
      "text/plain": [
       "(920,)"
      ]
     },
     "execution_count": 53,
     "metadata": {},
     "output_type": "execute_result"
    }
   ],
   "source": [
    "y_pred.shape"
   ]
  },
  {
   "cell_type": "code",
   "execution_count": 55,
   "metadata": {},
   "outputs": [
    {
     "data": {
      "image/png": "[encoded data removed]",
      "text/plain": [
       "<Figure size 800x600 with 1 Axes>"
      ]
     },
     "metadata": {},
     "output_type": "display_data"
    },
    {
     "name": "stdout",
     "output_type": "stream",
     "text": [
      "Classification Report:\n",
      "               precision    recall  f1-score   support\n",
      "\n",
      "           2       0.76      0.69      0.72       488\n",
      "           3       0.68      0.76      0.72       432\n",
      "\n",
      "    accuracy                           0.72       920\n",
      "   macro avg       0.72      0.72      0.72       920\n",
      "weighted avg       0.72      0.72      0.72       920\n",
      "\n"
     ]
    }
   ],
   "source": [
    "# Create a confusion matrix\n",
    "from sklearn.metrics import accuracy_score, precision_score, recall_score, f1_score, confusion_matrix\n",
    "from sklearn.metrics import classification_report\n",
    "\n",
    "conf_matrix = confusion_matrix(y_test_rocket, y_pred)\n",
    "\n",
    "# Create a heatmap for the confusion matrix\n",
    "plt.figure(figsize=(8, 6))\n",
    "sns.heatmap(conf_matrix, annot=True, fmt='d', cmap='Blues', cbar=False)\n",
    "plt.xlabel('Predicted Labels')\n",
    "plt.ylabel('True Labels')\n",
    "plt.title('Confusion Matrix')\n",
    "plt.show()\n",
    "\n",
    "# Create a classification report\n",
    "class_report = classification_report(y_test_rocket, y_pred)\n",
    "\n",
    "# Print the classification report\n",
    "print(\"Classification Report:\\n\", class_report)"
   ]
  },
  {
   "cell_type": "markdown",
   "metadata": {},
   "source": [
    "# Creating a hybrid model of LSTM + RocketBinary"
   ]
  },
  {
   "cell_type": "code",
   "execution_count": 57,
   "metadata": {},
   "outputs": [
    {
     "name": "stdout",
     "output_type": "stream",
     "text": [
      "✅ y_train is not provided, only X_train will be encoded.\n"
     ]
    }
   ],
   "source": [
    "#X_pred = pd.read_csv(X_pred_file_path)\n",
    "X_lstm = encoder_LSTM(X_pred)"
   ]
  },
  {
   "cell_type": "code",
   "execution_count": 59,
   "metadata": {},
   "outputs": [
    {
     "data": {
      "text/html": [
       "<div>\n",
       "<style scoped>\n",
       "    .dataframe tbody tr th:only-of-type {\n",
       "        vertical-align: middle;\n",
       "    }\n",
       "\n",
       "    .dataframe tbody tr th {\n",
       "        vertical-align: top;\n",
       "    }\n",
       "\n",
       "    .dataframe thead th {\n",
       "        text-align: right;\n",
       "    }\n",
       "</style>\n",
       "<table border=\"1\" class=\"dataframe\">\n",
       "  <thead>\n",
       "    <tr style=\"text-align: right;\">\n",
       "      <th></th>\n",
       "      <th>X1</th>\n",
       "      <th>X2</th>\n",
       "      <th>X3</th>\n",
       "      <th>X4</th>\n",
       "      <th>X5</th>\n",
       "      <th>X6</th>\n",
       "      <th>X7</th>\n",
       "      <th>X8</th>\n",
       "      <th>X9</th>\n",
       "      <th>X10</th>\n",
       "      <th>...</th>\n",
       "      <th>X169</th>\n",
       "      <th>X170</th>\n",
       "      <th>X171</th>\n",
       "      <th>X172</th>\n",
       "      <th>X173</th>\n",
       "      <th>X174</th>\n",
       "      <th>X175</th>\n",
       "      <th>X176</th>\n",
       "      <th>X177</th>\n",
       "      <th>X178</th>\n",
       "    </tr>\n",
       "  </thead>\n",
       "  <tbody>\n",
       "    <tr>\n",
       "      <th>0</th>\n",
       "      <td>-60</td>\n",
       "      <td>-50</td>\n",
       "      <td>-31</td>\n",
       "      <td>-14</td>\n",
       "      <td>5</td>\n",
       "      <td>16</td>\n",
       "      <td>20</td>\n",
       "      <td>17</td>\n",
       "      <td>17</td>\n",
       "      <td>20</td>\n",
       "      <td>...</td>\n",
       "      <td>-22</td>\n",
       "      <td>-24</td>\n",
       "      <td>-24</td>\n",
       "      <td>-24</td>\n",
       "      <td>-16</td>\n",
       "      <td>-13</td>\n",
       "      <td>-13</td>\n",
       "      <td>-20</td>\n",
       "      <td>-29</td>\n",
       "      <td>-34</td>\n",
       "    </tr>\n",
       "    <tr>\n",
       "      <th>1</th>\n",
       "      <td>14</td>\n",
       "      <td>6</td>\n",
       "      <td>5</td>\n",
       "      <td>3</td>\n",
       "      <td>-10</td>\n",
       "      <td>-39</td>\n",
       "      <td>-58</td>\n",
       "      <td>-42</td>\n",
       "      <td>-21</td>\n",
       "      <td>-11</td>\n",
       "      <td>...</td>\n",
       "      <td>-2</td>\n",
       "      <td>30</td>\n",
       "      <td>63</td>\n",
       "      <td>89</td>\n",
       "      <td>113</td>\n",
       "      <td>131</td>\n",
       "      <td>150</td>\n",
       "      <td>167</td>\n",
       "      <td>183</td>\n",
       "      <td>198</td>\n",
       "    </tr>\n",
       "    <tr>\n",
       "      <th>2</th>\n",
       "      <td>-8</td>\n",
       "      <td>-11</td>\n",
       "      <td>-16</td>\n",
       "      <td>-25</td>\n",
       "      <td>-18</td>\n",
       "      <td>-26</td>\n",
       "      <td>-15</td>\n",
       "      <td>1</td>\n",
       "      <td>41</td>\n",
       "      <td>68</td>\n",
       "      <td>...</td>\n",
       "      <td>-74</td>\n",
       "      <td>-33</td>\n",
       "      <td>0</td>\n",
       "      <td>36</td>\n",
       "      <td>64</td>\n",
       "      <td>89</td>\n",
       "      <td>93</td>\n",
       "      <td>100</td>\n",
       "      <td>95</td>\n",
       "      <td>75</td>\n",
       "    </tr>\n",
       "    <tr>\n",
       "      <th>3</th>\n",
       "      <td>-112</td>\n",
       "      <td>-117</td>\n",
       "      <td>-114</td>\n",
       "      <td>-109</td>\n",
       "      <td>-103</td>\n",
       "      <td>-103</td>\n",
       "      <td>-97</td>\n",
       "      <td>-83</td>\n",
       "      <td>-62</td>\n",
       "      <td>-31</td>\n",
       "      <td>...</td>\n",
       "      <td>88</td>\n",
       "      <td>94</td>\n",
       "      <td>94</td>\n",
       "      <td>90</td>\n",
       "      <td>80</td>\n",
       "      <td>66</td>\n",
       "      <td>59</td>\n",
       "      <td>54</td>\n",
       "      <td>46</td>\n",
       "      <td>37</td>\n",
       "    </tr>\n",
       "    <tr>\n",
       "      <th>4</th>\n",
       "      <td>-30</td>\n",
       "      <td>-32</td>\n",
       "      <td>-35</td>\n",
       "      <td>-35</td>\n",
       "      <td>-32</td>\n",
       "      <td>-28</td>\n",
       "      <td>-27</td>\n",
       "      <td>-17</td>\n",
       "      <td>-13</td>\n",
       "      <td>-10</td>\n",
       "      <td>...</td>\n",
       "      <td>-16</td>\n",
       "      <td>-26</td>\n",
       "      <td>-38</td>\n",
       "      <td>-51</td>\n",
       "      <td>-67</td>\n",
       "      <td>-74</td>\n",
       "      <td>-79</td>\n",
       "      <td>-81</td>\n",
       "      <td>-90</td>\n",
       "      <td>-95</td>\n",
       "    </tr>\n",
       "    <tr>\n",
       "      <th>5</th>\n",
       "      <td>-33</td>\n",
       "      <td>-24</td>\n",
       "      <td>-30</td>\n",
       "      <td>-25</td>\n",
       "      <td>-27</td>\n",
       "      <td>-18</td>\n",
       "      <td>-21</td>\n",
       "      <td>-24</td>\n",
       "      <td>-30</td>\n",
       "      <td>-45</td>\n",
       "      <td>...</td>\n",
       "      <td>-34</td>\n",
       "      <td>-41</td>\n",
       "      <td>-44</td>\n",
       "      <td>-42</td>\n",
       "      <td>-45</td>\n",
       "      <td>-45</td>\n",
       "      <td>-40</td>\n",
       "      <td>-41</td>\n",
       "      <td>-38</td>\n",
       "      <td>-38</td>\n",
       "    </tr>\n",
       "  </tbody>\n",
       "</table>\n",
       "<p>6 rows × 178 columns</p>\n",
       "</div>"
      ],
      "text/plain": [
       "    X1   X2   X3   X4   X5   X6  X7  X8  X9  X10  ...  X169  X170  X171  X172  \\\n",
       "0  -60  -50  -31  -14    5   16  20  17  17   20  ...   -22   -24   -24   -24   \n",
       "1   14    6    5    3  -10  -39 -58 -42 -21  -11  ...    -2    30    63    89   \n",
       "2   -8  -11  -16  -25  -18  -26 -15   1  41   68  ...   -74   -33     0    36   \n",
       "3 -112 -117 -114 -109 -103 -103 -97 -83 -62  -31  ...    88    94    94    90   \n",
       "4  -30  -32  -35  -35  -32  -28 -27 -17 -13  -10  ...   -16   -26   -38   -51   \n",
       "5  -33  -24  -30  -25  -27  -18 -21 -24 -30  -45  ...   -34   -41   -44   -42   \n",
       "\n",
       "   X173  X174  X175  X176  X177  X178  \n",
       "0   -16   -13   -13   -20   -29   -34  \n",
       "1   113   131   150   167   183   198  \n",
       "2    64    89    93   100    95    75  \n",
       "3    80    66    59    54    46    37  \n",
       "4   -67   -74   -79   -81   -90   -95  \n",
       "5   -45   -45   -40   -41   -38   -38  \n",
       "\n",
       "[6 rows x 178 columns]"
      ]
     },
     "execution_count": 59,
     "metadata": {},
     "output_type": "execute_result"
    }
   ],
   "source": [
    "X_pred"
   ]
  },
  {
   "cell_type": "code",
   "execution_count": null,
   "metadata": {},
   "outputs": [],
   "source": [
    "def hybrid_prediction(X_lstm, X_rocket):\n",
    "    \"\"\"\n",
    "    X_lstm -> input data for LSTM\n",
    "    X_rocket -> input data for ROCKET (only Class 1 & 2)\n",
    "    \"\"\"\n",
    "    # Step 1: Get LSTM predictions\n",
    "    lstm_probs = lstm_model.predict(X_lstm)  # Assume this gives probabilities\n",
    "    lstm_preds = np.argmax(lstm_probs, axis=1)\n",
    "\n",
    "    # Step 2: Identify samples where LSTM predicts Class 1 or 2\n",
    "    mask = (lstm_preds != 0)  # If LSTM predicts Class 1 or 2, we use ROCKET\n",
    "    \n",
    "    # Step 3: Use ROCKET only for Class 1 & 2 cases\n",
    "    rocket_preds = rocket.predict(X_rocket[mask])\n",
    "\n",
    "    # Step 4: Replace LSTM predictions with ROCKET predictions for Class 1 & 2\n",
    "    lstm_preds[mask] = rocket_preds\n",
    "\n",
    "    return lstm_preds"
   ]
  },
  {
   "cell_type": "code",
   "execution_count": null,
   "metadata": {},
   "outputs": [],
   "source": []
  },
  {
   "cell_type": "code",
   "execution_count": null,
   "metadata": {},
   "outputs": [],
   "source": []
  },
  {
   "cell_type": "code",
   "execution_count": null,
   "metadata": {},
   "outputs": [],
   "source": []
  }
 ],
 "metadata": {
  "kernelspec": {
   "display_name": "Python 3 (ipykernel)",
   "language": "python",
   "name": "python3"
  },
  "language_info": {
   "codemirror_mode": {
    "name": "ipython",
    "version": 3
   },
   "file_extension": ".py",
   "mimetype": "text/x-python",
   "name": "python",
   "nbconvert_exporter": "python",
   "pygments_lexer": "ipython3",
   "version": "3.10.6"
  },
  "toc": {
   "base_numbering": 1,
   "nav_menu": {},
   "number_sections": true,
   "sideBar": true,
   "skip_h1_title": false,
   "title_cell": "Table of Contents",
   "title_sidebar": "Contents",
   "toc_cell": false,
   "toc_position": {},
   "toc_section_display": true,
   "toc_window_display": false
  },
  "varInspector": {
   "cols": {
    "lenName": 16,
    "lenType": 16,
    "lenVar": 40
   },
   "kernels_config": {
    "python": {
     "delete_cmd_postfix": "",
     "delete_cmd_prefix": "del ",
     "library": "var_list.py",
     "varRefreshCmd": "print(var_dic_list())"
    },
    "r": {
     "delete_cmd_postfix": ") ",
     "delete_cmd_prefix": "rm(",
     "library": "var_list.r",
     "varRefreshCmd": "cat(var_dic_list()) "
    }
   },
   "types_to_exclude": [
    "module",
    "function",
    "builtin_function_or_method",
    "instance",
    "_Feature"
   ],
   "window_display": false
  }
 },
 "nbformat": 4,
 "nbformat_minor": 2
}
